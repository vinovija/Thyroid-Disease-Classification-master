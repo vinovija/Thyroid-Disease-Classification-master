{
 "cells": [
  {
   "cell_type": "code",
   "execution_count": 1,
   "metadata": {},
   "outputs": [
    {
     "data": {
      "text/html": [
       "<div>\n",
       "<style>\n",
       "    .dataframe thead tr:only-child th {\n",
       "        text-align: right;\n",
       "    }\n",
       "\n",
       "    .dataframe thead th {\n",
       "        text-align: left;\n",
       "    }\n",
       "\n",
       "    .dataframe tbody tr th {\n",
       "        vertical-align: top;\n",
       "    }\n",
       "</style>\n",
       "<table border=\"1\" class=\"dataframe\">\n",
       "  <thead>\n",
       "    <tr style=\"text-align: right;\">\n",
       "      <th></th>\n",
       "      <th>id_drop</th>\n",
       "      <th>Age</th>\n",
       "      <th>Sex</th>\n",
       "      <th>on.thyroxine</th>\n",
       "      <th>query.on.thyroxine</th>\n",
       "      <th>on.antithyroid.medication</th>\n",
       "      <th>sick</th>\n",
       "      <th>pregnant</th>\n",
       "      <th>thyroid.surgery</th>\n",
       "      <th>I131.treatment</th>\n",
       "      <th>...</th>\n",
       "      <th>goitre</th>\n",
       "      <th>tumor</th>\n",
       "      <th>hypopituitary</th>\n",
       "      <th>psych</th>\n",
       "      <th>TSH</th>\n",
       "      <th>T3</th>\n",
       "      <th>TT4</th>\n",
       "      <th>T4U</th>\n",
       "      <th>FTI</th>\n",
       "      <th>Classes</th>\n",
       "    </tr>\n",
       "  </thead>\n",
       "  <tbody>\n",
       "    <tr>\n",
       "      <th>0</th>\n",
       "      <td>1206</td>\n",
       "      <td>0.132159</td>\n",
       "      <td>0</td>\n",
       "      <td>0</td>\n",
       "      <td>0</td>\n",
       "      <td>0</td>\n",
       "      <td>0</td>\n",
       "      <td>0</td>\n",
       "      <td>0</td>\n",
       "      <td>0</td>\n",
       "      <td>...</td>\n",
       "      <td>0</td>\n",
       "      <td>0</td>\n",
       "      <td>0</td>\n",
       "      <td>0</td>\n",
       "      <td>0.030151</td>\n",
       "      <td>0.181818</td>\n",
       "      <td>0.324766</td>\n",
       "      <td>0.5</td>\n",
       "      <td>0.279898</td>\n",
       "      <td>3</td>\n",
       "    </tr>\n",
       "    <tr>\n",
       "      <th>1</th>\n",
       "      <td>1573</td>\n",
       "      <td>0.068282</td>\n",
       "      <td>1</td>\n",
       "      <td>0</td>\n",
       "      <td>0</td>\n",
       "      <td>0</td>\n",
       "      <td>0</td>\n",
       "      <td>0</td>\n",
       "      <td>0</td>\n",
       "      <td>0</td>\n",
       "      <td>...</td>\n",
       "      <td>0</td>\n",
       "      <td>0</td>\n",
       "      <td>0</td>\n",
       "      <td>1</td>\n",
       "      <td>0.010050</td>\n",
       "      <td>0.181818</td>\n",
       "      <td>0.212617</td>\n",
       "      <td>0.5</td>\n",
       "      <td>0.249364</td>\n",
       "      <td>3</td>\n",
       "    </tr>\n",
       "    <tr>\n",
       "      <th>2</th>\n",
       "      <td>1881</td>\n",
       "      <td>0.169604</td>\n",
       "      <td>0</td>\n",
       "      <td>0</td>\n",
       "      <td>0</td>\n",
       "      <td>0</td>\n",
       "      <td>0</td>\n",
       "      <td>0</td>\n",
       "      <td>0</td>\n",
       "      <td>0</td>\n",
       "      <td>...</td>\n",
       "      <td>0</td>\n",
       "      <td>0</td>\n",
       "      <td>0</td>\n",
       "      <td>0</td>\n",
       "      <td>0.000000</td>\n",
       "      <td>0.181818</td>\n",
       "      <td>0.212617</td>\n",
       "      <td>0.5</td>\n",
       "      <td>0.223919</td>\n",
       "      <td>3</td>\n",
       "    </tr>\n",
       "    <tr>\n",
       "      <th>3</th>\n",
       "      <td>1309</td>\n",
       "      <td>0.103524</td>\n",
       "      <td>0</td>\n",
       "      <td>0</td>\n",
       "      <td>0</td>\n",
       "      <td>0</td>\n",
       "      <td>0</td>\n",
       "      <td>0</td>\n",
       "      <td>0</td>\n",
       "      <td>0</td>\n",
       "      <td>...</td>\n",
       "      <td>0</td>\n",
       "      <td>0</td>\n",
       "      <td>0</td>\n",
       "      <td>0</td>\n",
       "      <td>0.015075</td>\n",
       "      <td>0.181818</td>\n",
       "      <td>0.205607</td>\n",
       "      <td>0.5</td>\n",
       "      <td>0.218830</td>\n",
       "      <td>3</td>\n",
       "    </tr>\n",
       "    <tr>\n",
       "      <th>4</th>\n",
       "      <td>206</td>\n",
       "      <td>0.151982</td>\n",
       "      <td>1</td>\n",
       "      <td>0</td>\n",
       "      <td>0</td>\n",
       "      <td>0</td>\n",
       "      <td>0</td>\n",
       "      <td>0</td>\n",
       "      <td>0</td>\n",
       "      <td>0</td>\n",
       "      <td>...</td>\n",
       "      <td>0</td>\n",
       "      <td>0</td>\n",
       "      <td>0</td>\n",
       "      <td>0</td>\n",
       "      <td>0.432161</td>\n",
       "      <td>0.000000</td>\n",
       "      <td>0.058411</td>\n",
       "      <td>0.5</td>\n",
       "      <td>0.076336</td>\n",
       "      <td>3</td>\n",
       "    </tr>\n",
       "  </tbody>\n",
       "</table>\n",
       "<p>5 rows × 23 columns</p>\n",
       "</div>"
      ],
      "text/plain": [
       "   id_drop       Age  Sex  on.thyroxine  query.on.thyroxine  \\\n",
       "0     1206  0.132159    0             0                   0   \n",
       "1     1573  0.068282    1             0                   0   \n",
       "2     1881  0.169604    0             0                   0   \n",
       "3     1309  0.103524    0             0                   0   \n",
       "4      206  0.151982    1             0                   0   \n",
       "\n",
       "   on.antithyroid.medication  sick  pregnant  thyroid.surgery  I131.treatment  \\\n",
       "0                          0     0         0                0               0   \n",
       "1                          0     0         0                0               0   \n",
       "2                          0     0         0                0               0   \n",
       "3                          0     0         0                0               0   \n",
       "4                          0     0         0                0               0   \n",
       "\n",
       "    ...     goitre  tumor  hypopituitary  psych       TSH        T3       TT4  \\\n",
       "0   ...          0      0              0      0  0.030151  0.181818  0.324766   \n",
       "1   ...          0      0              0      1  0.010050  0.181818  0.212617   \n",
       "2   ...          0      0              0      0  0.000000  0.181818  0.212617   \n",
       "3   ...          0      0              0      0  0.015075  0.181818  0.205607   \n",
       "4   ...          0      0              0      0  0.432161  0.000000  0.058411   \n",
       "\n",
       "   T4U       FTI  Classes  \n",
       "0  0.5  0.279898        3  \n",
       "1  0.5  0.249364        3  \n",
       "2  0.5  0.223919        3  \n",
       "3  0.5  0.218830        3  \n",
       "4  0.5  0.076336        3  \n",
       "\n",
       "[5 rows x 23 columns]"
      ]
     },
     "execution_count": 1,
     "metadata": {},
     "output_type": "execute_result"
    }
   ],
   "source": [
    "import pandas as pd\n",
    "import numpy as np\n",
    "df = pd.read_csv(\"/Users/anjalisinha/Desktop/thyroid_transformed.csv\",header = 0)\n",
    "df.head()"
   ]
  },
  {
   "cell_type": "code",
   "execution_count": 2,
   "metadata": {
    "collapsed": true
   },
   "outputs": [],
   "source": [
    "df = df.drop(\"id_drop\",1)"
   ]
  },
  {
   "cell_type": "code",
   "execution_count": 3,
   "metadata": {},
   "outputs": [
    {
     "data": {
      "text/html": [
       "<div>\n",
       "<style>\n",
       "    .dataframe thead tr:only-child th {\n",
       "        text-align: right;\n",
       "    }\n",
       "\n",
       "    .dataframe thead th {\n",
       "        text-align: left;\n",
       "    }\n",
       "\n",
       "    .dataframe tbody tr th {\n",
       "        vertical-align: top;\n",
       "    }\n",
       "</style>\n",
       "<table border=\"1\" class=\"dataframe\">\n",
       "  <thead>\n",
       "    <tr style=\"text-align: right;\">\n",
       "      <th></th>\n",
       "      <th>Age</th>\n",
       "      <th>Sex</th>\n",
       "      <th>on.thyroxine</th>\n",
       "      <th>query.on.thyroxine</th>\n",
       "      <th>on.antithyroid.medication</th>\n",
       "      <th>sick</th>\n",
       "      <th>pregnant</th>\n",
       "      <th>thyroid.surgery</th>\n",
       "      <th>I131.treatment</th>\n",
       "      <th>query.hypothyroid</th>\n",
       "      <th>...</th>\n",
       "      <th>goitre</th>\n",
       "      <th>tumor</th>\n",
       "      <th>hypopituitary</th>\n",
       "      <th>psych</th>\n",
       "      <th>TSH</th>\n",
       "      <th>T3</th>\n",
       "      <th>TT4</th>\n",
       "      <th>T4U</th>\n",
       "      <th>FTI</th>\n",
       "      <th>Classes</th>\n",
       "    </tr>\n",
       "  </thead>\n",
       "  <tbody>\n",
       "    <tr>\n",
       "      <th>0</th>\n",
       "      <td>0.132159</td>\n",
       "      <td>0</td>\n",
       "      <td>0</td>\n",
       "      <td>0</td>\n",
       "      <td>0</td>\n",
       "      <td>0</td>\n",
       "      <td>0</td>\n",
       "      <td>0</td>\n",
       "      <td>0</td>\n",
       "      <td>0</td>\n",
       "      <td>...</td>\n",
       "      <td>0</td>\n",
       "      <td>0</td>\n",
       "      <td>0</td>\n",
       "      <td>0</td>\n",
       "      <td>0.030151</td>\n",
       "      <td>0.181818</td>\n",
       "      <td>0.324766</td>\n",
       "      <td>0.5</td>\n",
       "      <td>0.279898</td>\n",
       "      <td>3</td>\n",
       "    </tr>\n",
       "    <tr>\n",
       "      <th>1</th>\n",
       "      <td>0.068282</td>\n",
       "      <td>1</td>\n",
       "      <td>0</td>\n",
       "      <td>0</td>\n",
       "      <td>0</td>\n",
       "      <td>0</td>\n",
       "      <td>0</td>\n",
       "      <td>0</td>\n",
       "      <td>0</td>\n",
       "      <td>0</td>\n",
       "      <td>...</td>\n",
       "      <td>0</td>\n",
       "      <td>0</td>\n",
       "      <td>0</td>\n",
       "      <td>1</td>\n",
       "      <td>0.010050</td>\n",
       "      <td>0.181818</td>\n",
       "      <td>0.212617</td>\n",
       "      <td>0.5</td>\n",
       "      <td>0.249364</td>\n",
       "      <td>3</td>\n",
       "    </tr>\n",
       "    <tr>\n",
       "      <th>2</th>\n",
       "      <td>0.169604</td>\n",
       "      <td>0</td>\n",
       "      <td>0</td>\n",
       "      <td>0</td>\n",
       "      <td>0</td>\n",
       "      <td>0</td>\n",
       "      <td>0</td>\n",
       "      <td>0</td>\n",
       "      <td>0</td>\n",
       "      <td>0</td>\n",
       "      <td>...</td>\n",
       "      <td>0</td>\n",
       "      <td>0</td>\n",
       "      <td>0</td>\n",
       "      <td>0</td>\n",
       "      <td>0.000000</td>\n",
       "      <td>0.181818</td>\n",
       "      <td>0.212617</td>\n",
       "      <td>0.5</td>\n",
       "      <td>0.223919</td>\n",
       "      <td>3</td>\n",
       "    </tr>\n",
       "    <tr>\n",
       "      <th>3</th>\n",
       "      <td>0.103524</td>\n",
       "      <td>0</td>\n",
       "      <td>0</td>\n",
       "      <td>0</td>\n",
       "      <td>0</td>\n",
       "      <td>0</td>\n",
       "      <td>0</td>\n",
       "      <td>0</td>\n",
       "      <td>0</td>\n",
       "      <td>0</td>\n",
       "      <td>...</td>\n",
       "      <td>0</td>\n",
       "      <td>0</td>\n",
       "      <td>0</td>\n",
       "      <td>0</td>\n",
       "      <td>0.015075</td>\n",
       "      <td>0.181818</td>\n",
       "      <td>0.205607</td>\n",
       "      <td>0.5</td>\n",
       "      <td>0.218830</td>\n",
       "      <td>3</td>\n",
       "    </tr>\n",
       "    <tr>\n",
       "      <th>4</th>\n",
       "      <td>0.151982</td>\n",
       "      <td>1</td>\n",
       "      <td>0</td>\n",
       "      <td>0</td>\n",
       "      <td>0</td>\n",
       "      <td>0</td>\n",
       "      <td>0</td>\n",
       "      <td>0</td>\n",
       "      <td>0</td>\n",
       "      <td>0</td>\n",
       "      <td>...</td>\n",
       "      <td>0</td>\n",
       "      <td>0</td>\n",
       "      <td>0</td>\n",
       "      <td>0</td>\n",
       "      <td>0.432161</td>\n",
       "      <td>0.000000</td>\n",
       "      <td>0.058411</td>\n",
       "      <td>0.5</td>\n",
       "      <td>0.076336</td>\n",
       "      <td>3</td>\n",
       "    </tr>\n",
       "  </tbody>\n",
       "</table>\n",
       "<p>5 rows × 22 columns</p>\n",
       "</div>"
      ],
      "text/plain": [
       "        Age  Sex  on.thyroxine  query.on.thyroxine  on.antithyroid.medication  \\\n",
       "0  0.132159    0             0                   0                          0   \n",
       "1  0.068282    1             0                   0                          0   \n",
       "2  0.169604    0             0                   0                          0   \n",
       "3  0.103524    0             0                   0                          0   \n",
       "4  0.151982    1             0                   0                          0   \n",
       "\n",
       "   sick  pregnant  thyroid.surgery  I131.treatment  query.hypothyroid  \\\n",
       "0     0         0                0               0                  0   \n",
       "1     0         0                0               0                  0   \n",
       "2     0         0                0               0                  0   \n",
       "3     0         0                0               0                  0   \n",
       "4     0         0                0               0                  0   \n",
       "\n",
       "    ...     goitre  tumor  hypopituitary  psych       TSH        T3       TT4  \\\n",
       "0   ...          0      0              0      0  0.030151  0.181818  0.324766   \n",
       "1   ...          0      0              0      1  0.010050  0.181818  0.212617   \n",
       "2   ...          0      0              0      0  0.000000  0.181818  0.212617   \n",
       "3   ...          0      0              0      0  0.015075  0.181818  0.205607   \n",
       "4   ...          0      0              0      0  0.432161  0.000000  0.058411   \n",
       "\n",
       "   T4U       FTI  Classes  \n",
       "0  0.5  0.279898        3  \n",
       "1  0.5  0.249364        3  \n",
       "2  0.5  0.223919        3  \n",
       "3  0.5  0.218830        3  \n",
       "4  0.5  0.076336        3  \n",
       "\n",
       "[5 rows x 22 columns]"
      ]
     },
     "execution_count": 3,
     "metadata": {},
     "output_type": "execute_result"
    }
   ],
   "source": [
    "df.head()"
   ]
  },
  {
   "cell_type": "code",
   "execution_count": 4,
   "metadata": {
    "collapsed": true
   },
   "outputs": [],
   "source": [
    "from sklearn import svm\n",
    "# Matplotlib library to plot the charts\n",
    "import matplotlib.pyplot as plt\n",
    "import matplotlib.mlab as mlab\n",
    "# Library for the statistic data vizualisation\n",
    "import seaborn\n",
    "\n",
    "%matplotlib inline"
   ]
  },
  {
   "cell_type": "code",
   "execution_count": 5,
   "metadata": {},
   "outputs": [
    {
     "data": {
      "text/plain": [
       "['Age',\n",
       " 'Sex',\n",
       " 'on.thyroxine',\n",
       " 'query.on.thyroxine',\n",
       " 'on.antithyroid.medication',\n",
       " 'sick',\n",
       " 'pregnant',\n",
       " 'thyroid.surgery',\n",
       " 'I131.treatment',\n",
       " 'query.hypothyroid',\n",
       " 'query.hyperthyroid',\n",
       " 'lithium',\n",
       " 'goitre',\n",
       " 'tumor',\n",
       " 'hypopituitary',\n",
       " 'psych',\n",
       " 'TSH',\n",
       " 'T3',\n",
       " 'TT4',\n",
       " 'T4U',\n",
       " 'FTI']"
      ]
     },
     "execution_count": 5,
     "metadata": {},
     "output_type": "execute_result"
    }
   ],
   "source": [
    "features = list(df.columns[0:21])\n",
    "features"
   ]
  },
  {
   "cell_type": "code",
   "execution_count": 6,
   "metadata": {
    "collapsed": true
   },
   "outputs": [],
   "source": [
    "x_org = df[features]\n",
    "y_org = df[\"Classes\"]"
   ]
  },
  {
   "cell_type": "code",
   "execution_count": 166,
   "metadata": {
    "collapsed": true
   },
   "outputs": [],
   "source": [
    "from sklearn.model_selection import train_test_split\n",
    "from sklearn.model_selection import cross_val_score\n",
    "from sklearn import model_selection\n",
    "from sklearn import metrics\n",
    "from sklearn.metrics import confusion_matrix\n",
    "\n",
    "x, x_test, y, y_test = train_test_split(x_org, y_org, test_size=0.20, random_state=42)"
   ]
  },
  {
   "cell_type": "code",
   "execution_count": 167,
   "metadata": {
    "collapsed": true
   },
   "outputs": [],
   "source": [
    "import warnings\n",
    "warnings.filterwarnings(\"ignore\")"
   ]
  },
  {
   "cell_type": "markdown",
   "metadata": {},
   "source": [
    "# Baseline Approach"
   ]
  },
  {
   "cell_type": "code",
   "execution_count": 168,
   "metadata": {
    "collapsed": true
   },
   "outputs": [],
   "source": [
    "from sklearn.metrics import roc_curve, auc\n",
    "from sklearn.multiclass import OneVsRestClassifier\n",
    "from sklearn.svm import LinearSVC\n",
    "from sklearn.preprocessing import label_binarize\n",
    "from sklearn.cross_validation import train_test_split"
   ]
  },
  {
   "cell_type": "code",
   "execution_count": 208,
   "metadata": {
    "collapsed": true
   },
   "outputs": [],
   "source": [
    "def plot_roc_multiclass(x, x_test, y, y_test, svm_clf):\n",
    "    #iris = datasets.load_iris()\n",
    "    #X, y = X_, Y_\n",
    "    X_train = x.as_matrix(columns=None)\n",
    "    X_test = x_test.as_matrix(columns=None)\n",
    "    y_train = y.as_matrix(columns=None)\n",
    "    y_test = y_test.as_matrix(columns=None)\n",
    "    \n",
    "    y_train = label_binarize(y_train, classes=[1,2,3])\n",
    "    y_test = label_binarize(y_test, classes=[1,2,3])\n",
    "    n_classes = 3\n",
    "    \n",
    "    # shuffle and split training and test sets\n",
    "    #X_train, X_test, y_train, y_test = x, x_test, y, y_test\n",
    "\n",
    "    # classifier\n",
    "    clf = OneVsRestClassifier(svm_clf)\n",
    "    clf = clf.fit(X_train, y_train)\n",
    "    \n",
    "    #acc = clf.score(x_test,y_test)\n",
    "    #print(\"Accuracy : \", acc)\n",
    "    \n",
    "    y_score = clf.decision_function(X_test)\n",
    "\n",
    "    # Compute ROC curve and ROC area for each class\n",
    "    fpr = dict()\n",
    "    tpr = dict()\n",
    "    roc_auc = dict()\n",
    "    for i in range(n_classes):\n",
    "        fpr[i], tpr[i], _ = roc_curve(y_test[:, i], y_score[:, i])\n",
    "        roc_auc[i] = auc(fpr[i], tpr[i])\n",
    "    roc_color = ['r','g','b']\n",
    "    roc_label = ['1','2','3']\n",
    "    # Plot of a ROC curve for a specific class\n",
    "    plt.figure()\n",
    "    for i in range(n_classes):\n",
    "        plt.plot(fpr[i], tpr[i], label='ROC Class %s (area = %0.2f)' % (roc_label[i],roc_auc[i]), color=roc_color[i])\n",
    "        plt.plot([0, 1], [0, 1], 'k--')\n",
    "        plt.xlim([0.0, 1.0])\n",
    "        plt.ylim([0.0, 1.05])\n",
    "        plt.xlabel('False Positive Rate')\n",
    "        plt.ylabel('True Positive Rate')\n",
    "        plt.title('Receiver operating characteristic')\n",
    "        plt.legend(loc=\"lower right\")\n",
    "    plt.show()\n"
   ]
  },
  {
   "cell_type": "code",
   "execution_count": 209,
   "metadata": {
    "scrolled": false
   },
   "outputs": [
    {
     "data": {
      "image/png": "[encoded data removed]",
      "text/plain": [
       "<matplotlib.figure.Figure at 0x1125e8dd8>"
      ]
     },
     "metadata": {},
     "output_type": "display_data"
    },
    {
     "name": "stdout",
     "output_type": "stream",
     "text": [
      "Accuracy :  0.763367463026\n"
     ]
    }
   ],
   "source": [
    "clf_baseline_0 = svm.SVC()\n",
    "plot_roc_multiclass(x, x_test, y, y_test,clf_baseline_0)\n",
    "clf_baseline_0.fit(x,y)\n",
    "y_pred = clf_baseline_0.predict(x_test)\n",
    "acc = clf_baseline_0.score(x_test,y_test)\n",
    "print(\"Accuracy : \", acc)"
   ]
  },
  {
   "cell_type": "code",
   "execution_count": 211,
   "metadata": {},
   "outputs": [
    {
     "data": {
      "text/plain": [
       "array([[187,   0,   4],\n",
       "       [  0, 308,  11],\n",
       "       [ 18,  37, 314]])"
      ]
     },
     "execution_count": 211,
     "metadata": {},
     "output_type": "execute_result"
    }
   ],
   "source": [
    "confusion_matrix(y_test, y_pred)"
   ]
  },
  {
   "cell_type": "code",
   "execution_count": 221,
   "metadata": {},
   "outputs": [
    {
     "data": {
      "image/png": "[encoded data removed]",
      "text/plain": [
       "<matplotlib.figure.Figure at 0x1a1cef1ef0>"
      ]
     },
     "metadata": {},
     "output_type": "display_data"
    },
    {
     "name": "stdout",
     "output_type": "stream",
     "text": [
      "Accuracy :  0.362912400455\n"
     ]
    }
   ],
   "source": [
    "clf_baseline_0 = svm.SVC(kernel=\"poly\")\n",
    "plot_roc_multiclass(x, x_test, y, y_test,clf_baseline_0)\n",
    "clf_baseline_0.fit(x,y)\n",
    "y_pred = clf_baseline_0.predict(x_test)\n",
    "acc = clf_baseline_0.score(x_test,y_test)\n",
    "print(\"Accuracy : \", acc)"
   ]
  },
  {
   "cell_type": "code",
   "execution_count": 222,
   "metadata": {},
   "outputs": [
    {
     "data": {
      "text/plain": [
       "array([[  0, 191,   0],\n",
       "       [  0, 319,   0],\n",
       "       [  0, 369,   0]])"
      ]
     },
     "execution_count": 222,
     "metadata": {},
     "output_type": "execute_result"
    }
   ],
   "source": [
    "confusion_matrix(y_test, y_pred)"
   ]
  },
  {
   "cell_type": "code",
   "execution_count": 210,
   "metadata": {
    "scrolled": false
   },
   "outputs": [
    {
     "name": "stdout",
     "output_type": "stream",
     "text": [
      "# Baseline Param tuning - All kernel\n",
      "# Tuning hyper-parameters for precision_macro\n",
      "\n",
      "Fitting 5 folds for each of 4 candidates, totalling 20 fits\n"
     ]
    },
    {
     "name": "stderr",
     "output_type": "stream",
     "text": [
      "[Parallel(n_jobs=1)]: Done  20 out of  20 | elapsed:    7.3s finished\n"
     ]
    },
    {
     "name": "stdout",
     "output_type": "stream",
     "text": [
      "Best parameters set found on development set:\n",
      "\n",
      "{'kernel': 'linear'}\n",
      "\n",
      "Grid scores on development set:\n",
      "\n",
      "Training Score   | Testing Score\n",
      "\n",
      "0.924 (+/-0.007) | 0.920 (+/-0.028) for {'kernel': 'linear'}\n",
      "0.807 (+/-0.017) | 0.804 (+/-0.028) for {'kernel': 'rbf'}\n",
      "0.774 (+/-0.062) | 0.770 (+/-0.073) for {'kernel': 'sigmoid'}\n",
      "0.136 (+/-0.000) | 0.136 (+/-0.000) for {'kernel': 'poly'}\n",
      "\n",
      "# Tuning hyper-parameters for recall_macro\n",
      "\n",
      "Fitting 5 folds for each of 4 candidates, totalling 20 fits\n"
     ]
    },
    {
     "name": "stderr",
     "output_type": "stream",
     "text": [
      "[Parallel(n_jobs=1)]: Done  20 out of  20 | elapsed:    7.3s finished\n"
     ]
    },
    {
     "name": "stdout",
     "output_type": "stream",
     "text": [
      "Best parameters set found on development set:\n",
      "\n",
      "{'kernel': 'linear'}\n",
      "\n",
      "Grid scores on development set:\n",
      "\n",
      "Training Score   | Testing Score\n",
      "\n",
      "0.933 (+/-0.006) | 0.930 (+/-0.027) for {'kernel': 'linear'}\n",
      "0.724 (+/-0.012) | 0.722 (+/-0.041) for {'kernel': 'rbf'}\n",
      "0.624 (+/-0.021) | 0.617 (+/-0.039) for {'kernel': 'sigmoid'}\n",
      "0.333 (+/-0.000) | 0.333 (+/-0.000) for {'kernel': 'poly'}\n",
      "\n",
      "# Tuning hyper-parameters for accuracy\n",
      "\n",
      "Fitting 5 folds for each of 4 candidates, totalling 20 fits\n"
     ]
    },
    {
     "name": "stderr",
     "output_type": "stream",
     "text": [
      "[Parallel(n_jobs=1)]: Done  20 out of  20 | elapsed:    7.4s finished\n"
     ]
    },
    {
     "name": "stdout",
     "output_type": "stream",
     "text": [
      "Best parameters set found on development set:\n",
      "\n",
      "{'kernel': 'linear'}\n",
      "\n",
      "Grid scores on development set:\n",
      "\n",
      "Training Score   | Testing Score\n",
      "\n",
      "0.926 (+/-0.007) | 0.922 (+/-0.031) for {'kernel': 'linear'}\n",
      "Fitting 5 folds for each of 4 candidates, totalling 20 fits\n"
     ]
    },
    {
     "name": "stderr",
     "output_type": "stream",
     "text": [
      "[Parallel(n_jobs=1)]: Done  20 out of  20 | elapsed:    3.5s finished\n"
     ]
    },
    {
     "name": "stdout",
     "output_type": "stream",
     "text": [
      "Fitting 5 folds for each of 4 candidates, totalling 20 fits\n"
     ]
    },
    {
     "name": "stderr",
     "output_type": "stream",
     "text": [
      "[Parallel(n_jobs=1)]: Done  20 out of  20 | elapsed:    4.7s finished\n"
     ]
    },
    {
     "name": "stdout",
     "output_type": "stream",
     "text": [
      "Fitting 5 folds for each of 4 candidates, totalling 20 fits\n"
     ]
    },
    {
     "name": "stderr",
     "output_type": "stream",
     "text": [
      "[Parallel(n_jobs=1)]: Done  20 out of  20 | elapsed:    7.6s finished\n"
     ]
    },
    {
     "data": {
      "image/png": "[encoded data removed]",
      "text/plain": [
       "<matplotlib.figure.Figure at 0x114aa7cc0>"
      ]
     },
     "metadata": {},
     "output_type": "display_data"
    },
    {
     "name": "stdout",
     "output_type": "stream",
     "text": [
      "Fitting 5 folds for each of 4 candidates, totalling 20 fits\n"
     ]
    },
    {
     "name": "stderr",
     "output_type": "stream",
     "text": [
      "[Parallel(n_jobs=1)]: Done  20 out of  20 | elapsed:    7.6s finished\n"
     ]
    },
    {
     "name": "stdout",
     "output_type": "stream",
     "text": [
      "0.751 (+/-0.011) | 0.749 (+/-0.032) for {'kernel': 'rbf'}\n",
      "Fitting 5 folds for each of 4 candidates, totalling 20 fits\n"
     ]
    },
    {
     "name": "stderr",
     "output_type": "stream",
     "text": [
      "[Parallel(n_jobs=1)]: Done  20 out of  20 | elapsed:    3.5s finished\n"
     ]
    },
    {
     "name": "stdout",
     "output_type": "stream",
     "text": [
      "Fitting 5 folds for each of 4 candidates, totalling 20 fits\n"
     ]
    },
    {
     "name": "stderr",
     "output_type": "stream",
     "text": [
      "[Parallel(n_jobs=1)]: Done  20 out of  20 | elapsed:    4.9s finished\n"
     ]
    },
    {
     "name": "stdout",
     "output_type": "stream",
     "text": [
      "Fitting 5 folds for each of 4 candidates, totalling 20 fits\n"
     ]
    },
    {
     "name": "stderr",
     "output_type": "stream",
     "text": [
      "[Parallel(n_jobs=1)]: Done  20 out of  20 | elapsed:    7.6s finished\n"
     ]
    },
    {
     "data": {
      "image/png": "[encoded data removed]",
      "text/plain": [
       "<matplotlib.figure.Figure at 0x10cb12b00>"
      ]
     },
     "metadata": {},
     "output_type": "display_data"
    },
    {
     "name": "stdout",
     "output_type": "stream",
     "text": [
      "Fitting 5 folds for each of 4 candidates, totalling 20 fits\n"
     ]
    },
    {
     "name": "stderr",
     "output_type": "stream",
     "text": [
      "[Parallel(n_jobs=1)]: Done  20 out of  20 | elapsed:    7.5s finished\n"
     ]
    },
    {
     "name": "stdout",
     "output_type": "stream",
     "text": [
      "0.679 (+/-0.014) | 0.674 (+/-0.027) for {'kernel': 'sigmoid'}\n",
      "Fitting 5 folds for each of 4 candidates, totalling 20 fits\n"
     ]
    },
    {
     "name": "stderr",
     "output_type": "stream",
     "text": [
      "[Parallel(n_jobs=1)]: Done  20 out of  20 | elapsed:    3.5s finished\n"
     ]
    },
    {
     "name": "stdout",
     "output_type": "stream",
     "text": [
      "Fitting 5 folds for each of 4 candidates, totalling 20 fits\n"
     ]
    },
    {
     "name": "stderr",
     "output_type": "stream",
     "text": [
      "[Parallel(n_jobs=1)]: Done  20 out of  20 | elapsed:    4.9s finished\n"
     ]
    },
    {
     "name": "stdout",
     "output_type": "stream",
     "text": [
      "Fitting 5 folds for each of 4 candidates, totalling 20 fits\n"
     ]
    },
    {
     "name": "stderr",
     "output_type": "stream",
     "text": [
      "[Parallel(n_jobs=1)]: Done  20 out of  20 | elapsed:    7.8s finished\n"
     ]
    },
    {
     "data": {
      "image/png": "[encoded data removed]",
      "text/plain": [
       "<matplotlib.figure.Figure at 0x114aa7198>"
      ]
     },
     "metadata": {},
     "output_type": "display_data"
    },
    {
     "name": "stdout",
     "output_type": "stream",
     "text": [
      "Fitting 5 folds for each of 4 candidates, totalling 20 fits\n"
     ]
    },
    {
     "name": "stderr",
     "output_type": "stream",
     "text": [
      "[Parallel(n_jobs=1)]: Done  20 out of  20 | elapsed:    7.5s finished\n"
     ]
    },
    {
     "name": "stdout",
     "output_type": "stream",
     "text": [
      "0.408 (+/-0.000) | 0.408 (+/-0.001) for {'kernel': 'poly'}\n",
      "Fitting 5 folds for each of 4 candidates, totalling 20 fits\n"
     ]
    },
    {
     "name": "stderr",
     "output_type": "stream",
     "text": [
      "[Parallel(n_jobs=1)]: Done  20 out of  20 | elapsed:    3.5s finished\n"
     ]
    },
    {
     "name": "stdout",
     "output_type": "stream",
     "text": [
      "Fitting 5 folds for each of 4 candidates, totalling 20 fits\n"
     ]
    },
    {
     "name": "stderr",
     "output_type": "stream",
     "text": [
      "[Parallel(n_jobs=1)]: Done  20 out of  20 | elapsed:    4.8s finished\n"
     ]
    },
    {
     "name": "stdout",
     "output_type": "stream",
     "text": [
      "Fitting 5 folds for each of 4 candidates, totalling 20 fits\n"
     ]
    },
    {
     "name": "stderr",
     "output_type": "stream",
     "text": [
      "[Parallel(n_jobs=1)]: Done  20 out of  20 | elapsed:    7.5s finished\n"
     ]
    },
    {
     "data": {
      "image/png": "[encoded data removed]",
      "text/plain": [
       "<matplotlib.figure.Figure at 0x10f6dbc50>"
      ]
     },
     "metadata": {},
     "output_type": "display_data"
    },
    {
     "name": "stdout",
     "output_type": "stream",
     "text": [
      "Fitting 5 folds for each of 4 candidates, totalling 20 fits\n",
      "\n"
     ]
    },
    {
     "name": "stderr",
     "output_type": "stream",
     "text": [
      "[Parallel(n_jobs=1)]: Done  20 out of  20 | elapsed:    7.3s finished\n"
     ]
    }
   ],
   "source": [
    "# Complete Param tuning - ALL kernel\n",
    "grid_eval_metric_baseline = ['precision_macro','recall_macro','accuracy']\n",
    "\n",
    "# Set the parameters by cross-validation\n",
    "tuned_parameters_baseline = [\n",
    "                    {'kernel': ['linear']},\n",
    "                    {'kernel': ['rbf']},\n",
    "                    {'kernel': ['sigmoid']},\n",
    "                    {'kernel': ['poly']}\n",
    "                   ]\n",
    "\n",
    "print(\"# Baseline Param tuning - All kernel\")\n",
    "for score in grid_eval_metric_baseline:\n",
    "    print(\"# Tuning hyper-parameters for %s\" % score)\n",
    "    print()\n",
    "\n",
    "    clf_tune_baseline = model_selection.GridSearchCV(svm.SVC(), tuned_parameters_baseline, cv=5,\n",
    "                       scoring='%s' % score, verbose=True)\n",
    "    clf_tune_baseline.fit(x,y)\n",
    "    print(\"Best parameters set found on development set:\")\n",
    "    print()\n",
    "    print(clf_tune_baseline.best_params_)\n",
    "    print()\n",
    "    print(\"Grid scores on development set:\")\n",
    "    print()\n",
    "    print(\"Training Score   | Testing Score\")\n",
    "    print()\n",
    "    means_baseline = clf_tune_baseline.cv_results_['mean_test_score']\n",
    "    stds_baseline = clf_tune_baseline.cv_results_['std_test_score']\n",
    "    means_train_baseline = clf_tune_baseline.cv_results_['mean_train_score']\n",
    "    stds_train_baseline = clf_tune_baseline.cv_results_['std_train_score']\n",
    "    for mean_t, std_t, mean, std, params in zip(means_train_baseline, stds_train_baseline, means_baseline, stds_baseline, clf_tune_baseline.cv_results_['params']):\n",
    "        print(\"%0.3f (+/-%0.03f) | %0.3f (+/-%0.03f) for %r\"\n",
    "              % (mean_t, std_t * 2, mean, std * 2, params))\n",
    "        if(score == \"accuracy\"):\n",
    "            plot_roc_multiclass(x, x_test, y, y_test,clf_tune_baseline)\n",
    "            clf_tune_baseline.fit(x,y)\n",
    "            y_pred = clf_tune_baseline.predict(x_test)\n",
    "            confusion_matrix(y_test, y_pred)\n",
    "    print()"
   ]
  },
  {
   "cell_type": "markdown",
   "metadata": {},
   "source": [
    "# Feature Engineering Techniques"
   ]
  },
  {
   "cell_type": "code",
   "execution_count": 15,
   "metadata": {
    "scrolled": true
   },
   "outputs": [
    {
     "name": "stdout",
     "output_type": "stream",
     "text": [
      "Fitting estimator with 21 features.\n",
      "Fitting estimator with 20 features.\n",
      "Fitting estimator with 19 features.\n",
      "Fitting estimator with 18 features.\n",
      "Fitting estimator with 17 features.\n",
      "Fitting estimator with 16 features.\n",
      "Fitting estimator with 15 features.\n",
      "Fitting estimator with 14 features.\n",
      "Fitting estimator with 13 features.\n",
      "Fitting estimator with 12 features.\n",
      "Fitting estimator with 11 features.\n",
      "Fitting estimator with 10 features.\n",
      "Fitting estimator with 9 features.\n",
      "Fitting estimator with 8 features.\n",
      "Fitting estimator with 7 features.\n",
      "Fitting estimator with 6 features.\n",
      "Fitting estimator with 5 features.\n",
      "Fitting estimator with 4 features.\n",
      "Fitting estimator with 3 features.\n",
      "Fitting estimator with 2 features.\n",
      "Fitting estimator with 21 features.\n",
      "Fitting estimator with 20 features.\n",
      "Fitting estimator with 19 features.\n",
      "Fitting estimator with 18 features.\n",
      "Fitting estimator with 17 features.\n",
      "Fitting estimator with 16 features.\n",
      "Fitting estimator with 15 features.\n",
      "Fitting estimator with 14 features.\n",
      "Fitting estimator with 13 features.\n",
      "Fitting estimator with 12 features.\n",
      "Fitting estimator with 11 features.\n",
      "Fitting estimator with 10 features.\n",
      "Fitting estimator with 9 features.\n",
      "Fitting estimator with 8 features.\n",
      "Fitting estimator with 7 features.\n",
      "Fitting estimator with 6 features.\n",
      "Fitting estimator with 5 features.\n",
      "Fitting estimator with 4 features.\n",
      "Fitting estimator with 3 features.\n",
      "Fitting estimator with 2 features.\n"
     ]
    },
    {
     "data": {
      "text/plain": [
       "RFECV(cv=StratifiedKFold(n_splits=2, random_state=None, shuffle=False),\n",
       "   estimator=SVC(C=1.0, cache_size=200, class_weight=None, coef0=0.0,\n",
       "  decision_function_shape='ovr', degree=3, gamma='auto', kernel='linear',\n",
       "  max_iter=-1, probability=False, random_state=None, shrinking=True,\n",
       "  tol=0.001, verbose=False),\n",
       "   n_jobs=1, scoring='accuracy', step=1, verbose=True)"
      ]
     },
     "execution_count": 15,
     "metadata": {},
     "output_type": "execute_result"
    }
   ],
   "source": [
    "#Feature Engineering using RFECV \n",
    "from sklearn.feature_selection import RFECV\n",
    "from sklearn.model_selection import StratifiedKFold\n",
    "\n",
    "clf1= svm.SVC(kernel='linear')\n",
    "rfecv = RFECV(estimator=clf1, step=1, cv=StratifiedKFold(2),\n",
    "              scoring='accuracy', verbose=True)\n",
    "rfecv.fit(x_org, y_org)\n",
    "rfecv"
   ]
  },
  {
   "cell_type": "code",
   "execution_count": 16,
   "metadata": {},
   "outputs": [
    {
     "name": "stdout",
     "output_type": "stream",
     "text": [
      "Optimal number of features : 18\n"
     ]
    },
    {
     "data": {
      "image/png": "[encoded data removed]",
      "text/plain": [
       "<matplotlib.figure.Figure at 0x1128da7b8>"
      ]
     },
     "metadata": {},
     "output_type": "display_data"
    }
   ],
   "source": [
    "print(\"Optimal number of features : %d\" % rfecv.n_features_)\n",
    "\n",
    "# Plot number of features VS. cross-validation scores\n",
    "plt.figure()\n",
    "plt.xlabel(\"Number of features selected\")\n",
    "plt.ylabel(\"Cross validation score (nb of correct classifications)\")\n",
    "plt.plot(range(1, len(rfecv.grid_scores_) + 1), rfecv.grid_scores_)\n",
    "plt.show()"
   ]
  },
  {
   "cell_type": "code",
   "execution_count": 17,
   "metadata": {},
   "outputs": [
    {
     "data": {
      "text/plain": [
       "18"
      ]
     },
     "execution_count": 17,
     "metadata": {},
     "output_type": "execute_result"
    }
   ],
   "source": [
    "rfecv.n_features_ "
   ]
  },
  {
   "cell_type": "code",
   "execution_count": 18,
   "metadata": {},
   "outputs": [
    {
     "data": {
      "text/plain": [
       "array([ True,  True,  True,  True,  True,  True,  True,  True, False,\n",
       "        True,  True,  True,  True,  True, False,  True,  True,  True,\n",
       "        True, False,  True], dtype=bool)"
      ]
     },
     "execution_count": 18,
     "metadata": {},
     "output_type": "execute_result"
    }
   ],
   "source": [
    "rfecv.support_ "
   ]
  },
  {
   "cell_type": "code",
   "execution_count": 19,
   "metadata": {},
   "outputs": [
    {
     "data": {
      "text/plain": [
       "array([1, 1, 1, 1, 1, 1, 1, 1, 3, 1, 1, 1, 1, 1, 4, 1, 1, 1, 1, 2, 1])"
      ]
     },
     "execution_count": 19,
     "metadata": {},
     "output_type": "execute_result"
    }
   ],
   "source": [
    "rfecv.ranking_"
   ]
  },
  {
   "cell_type": "code",
   "execution_count": 190,
   "metadata": {},
   "outputs": [
    {
     "data": {
      "text/html": [
       "<div>\n",
       "<style>\n",
       "    .dataframe thead tr:only-child th {\n",
       "        text-align: right;\n",
       "    }\n",
       "\n",
       "    .dataframe thead th {\n",
       "        text-align: left;\n",
       "    }\n",
       "\n",
       "    .dataframe tbody tr th {\n",
       "        vertical-align: top;\n",
       "    }\n",
       "</style>\n",
       "<table border=\"1\" class=\"dataframe\">\n",
       "  <thead>\n",
       "    <tr style=\"text-align: right;\">\n",
       "      <th></th>\n",
       "      <th>Age</th>\n",
       "      <th>Sex</th>\n",
       "      <th>on.thyroxine</th>\n",
       "      <th>query.on.thyroxine</th>\n",
       "      <th>on.antithyroid.medication</th>\n",
       "      <th>sick</th>\n",
       "      <th>pregnant</th>\n",
       "      <th>thyroid.surgery</th>\n",
       "      <th>query.hypothyroid</th>\n",
       "      <th>query.hyperthyroid</th>\n",
       "      <th>lithium</th>\n",
       "      <th>goitre</th>\n",
       "      <th>tumor</th>\n",
       "      <th>psych</th>\n",
       "      <th>TSH</th>\n",
       "      <th>T3</th>\n",
       "      <th>TT4</th>\n",
       "      <th>FTI</th>\n",
       "    </tr>\n",
       "  </thead>\n",
       "  <tbody>\n",
       "    <tr>\n",
       "      <th>4058</th>\n",
       "      <td>0.118943</td>\n",
       "      <td>0</td>\n",
       "      <td>0</td>\n",
       "      <td>0</td>\n",
       "      <td>0</td>\n",
       "      <td>0</td>\n",
       "      <td>0</td>\n",
       "      <td>0</td>\n",
       "      <td>0</td>\n",
       "      <td>0</td>\n",
       "      <td>0</td>\n",
       "      <td>0</td>\n",
       "      <td>0</td>\n",
       "      <td>0</td>\n",
       "      <td>0.080402</td>\n",
       "      <td>0.272727</td>\n",
       "      <td>0.308411</td>\n",
       "      <td>0.277354</td>\n",
       "    </tr>\n",
       "    <tr>\n",
       "      <th>315</th>\n",
       "      <td>0.151982</td>\n",
       "      <td>0</td>\n",
       "      <td>0</td>\n",
       "      <td>0</td>\n",
       "      <td>0</td>\n",
       "      <td>0</td>\n",
       "      <td>0</td>\n",
       "      <td>0</td>\n",
       "      <td>0</td>\n",
       "      <td>0</td>\n",
       "      <td>0</td>\n",
       "      <td>0</td>\n",
       "      <td>0</td>\n",
       "      <td>0</td>\n",
       "      <td>0.020101</td>\n",
       "      <td>0.090909</td>\n",
       "      <td>0.245327</td>\n",
       "      <td>0.236641</td>\n",
       "    </tr>\n",
       "    <tr>\n",
       "      <th>3093</th>\n",
       "      <td>0.057269</td>\n",
       "      <td>0</td>\n",
       "      <td>0</td>\n",
       "      <td>0</td>\n",
       "      <td>0</td>\n",
       "      <td>0</td>\n",
       "      <td>0</td>\n",
       "      <td>0</td>\n",
       "      <td>0</td>\n",
       "      <td>0</td>\n",
       "      <td>0</td>\n",
       "      <td>0</td>\n",
       "      <td>0</td>\n",
       "      <td>0</td>\n",
       "      <td>0.005025</td>\n",
       "      <td>0.363636</td>\n",
       "      <td>0.404206</td>\n",
       "      <td>0.239186</td>\n",
       "    </tr>\n",
       "    <tr>\n",
       "      <th>3198</th>\n",
       "      <td>0.079295</td>\n",
       "      <td>0</td>\n",
       "      <td>0</td>\n",
       "      <td>0</td>\n",
       "      <td>0</td>\n",
       "      <td>0</td>\n",
       "      <td>0</td>\n",
       "      <td>0</td>\n",
       "      <td>0</td>\n",
       "      <td>0</td>\n",
       "      <td>0</td>\n",
       "      <td>0</td>\n",
       "      <td>0</td>\n",
       "      <td>0</td>\n",
       "      <td>0.000000</td>\n",
       "      <td>0.272727</td>\n",
       "      <td>0.207944</td>\n",
       "      <td>0.203562</td>\n",
       "    </tr>\n",
       "    <tr>\n",
       "      <th>2813</th>\n",
       "      <td>0.094714</td>\n",
       "      <td>0</td>\n",
       "      <td>0</td>\n",
       "      <td>0</td>\n",
       "      <td>0</td>\n",
       "      <td>0</td>\n",
       "      <td>0</td>\n",
       "      <td>0</td>\n",
       "      <td>0</td>\n",
       "      <td>1</td>\n",
       "      <td>0</td>\n",
       "      <td>0</td>\n",
       "      <td>1</td>\n",
       "      <td>0</td>\n",
       "      <td>0.000000</td>\n",
       "      <td>0.272727</td>\n",
       "      <td>0.331776</td>\n",
       "      <td>0.284987</td>\n",
       "    </tr>\n",
       "  </tbody>\n",
       "</table>\n",
       "</div>"
      ],
      "text/plain": [
       "           Age  Sex  on.thyroxine  query.on.thyroxine  \\\n",
       "4058  0.118943    0             0                   0   \n",
       "315   0.151982    0             0                   0   \n",
       "3093  0.057269    0             0                   0   \n",
       "3198  0.079295    0             0                   0   \n",
       "2813  0.094714    0             0                   0   \n",
       "\n",
       "      on.antithyroid.medication  sick  pregnant  thyroid.surgery  \\\n",
       "4058                          0     0         0                0   \n",
       "315                           0     0         0                0   \n",
       "3093                          0     0         0                0   \n",
       "3198                          0     0         0                0   \n",
       "2813                          0     0         0                0   \n",
       "\n",
       "      query.hypothyroid  query.hyperthyroid  lithium  goitre  tumor  psych  \\\n",
       "4058                  0                   0        0       0      0      0   \n",
       "315                   0                   0        0       0      0      0   \n",
       "3093                  0                   0        0       0      0      0   \n",
       "3198                  0                   0        0       0      0      0   \n",
       "2813                  0                   1        0       0      1      0   \n",
       "\n",
       "           TSH        T3       TT4       FTI  \n",
       "4058  0.080402  0.272727  0.308411  0.277354  \n",
       "315   0.020101  0.090909  0.245327  0.236641  \n",
       "3093  0.005025  0.363636  0.404206  0.239186  \n",
       "3198  0.000000  0.272727  0.207944  0.203562  \n",
       "2813  0.000000  0.272727  0.331776  0.284987  "
      ]
     },
     "execution_count": 190,
     "metadata": {},
     "output_type": "execute_result"
    }
   ],
   "source": [
    "#Reduced features - reducing from 21 to 18 features, deemed important by rfecv\n",
    "x_reduced = x\n",
    "x_reduced = x_reduced.drop(\"I131.treatment\",1)\n",
    "x_reduced = x_reduced.drop(\"hypopituitary\",1)\n",
    "x_reduced = x_reduced.drop(\"T4U\",1)\n",
    "x_reduced.head()\n",
    "\n",
    "x_test_reduced = x_test\n",
    "x_test_reduced = x_test_reduced.drop(\"I131.treatment\",1)\n",
    "x_test_reduced = x_test_reduced.drop(\"hypopituitary\",1)\n",
    "x_test_reduced = x_test_reduced.drop(\"T4U\",1)\n",
    "x_test_reduced.head()"
   ]
  },
  {
   "cell_type": "markdown",
   "metadata": {},
   "source": [
    "# Parameter Tuning"
   ]
  },
  {
   "cell_type": "code",
   "execution_count": 175,
   "metadata": {
    "collapsed": true
   },
   "outputs": [],
   "source": [
    "from matplotlib.colors import Normalize\n",
    "\n",
    "# Utility function to move the midpoint of a colormap to be around\n",
    "# the values of interest.\n",
    "\n",
    "class MidpointNormalize(Normalize):\n",
    "\n",
    "    def __init__(self, vmin=None, vmax=None, midpoint=None, clip=False):\n",
    "        self.midpoint = midpoint\n",
    "        Normalize.__init__(self, vmin, vmax, clip)\n",
    "\n",
    "    def __call__(self, value, clip=None):\n",
    "        x, y = [self.vmin, self.midpoint, self.vmax], [0, 0.5, 1]\n",
    "        return np.ma.masked_array(np.interp(value, x, y))\n"
   ]
  },
  {
   "cell_type": "code",
   "execution_count": 176,
   "metadata": {
    "collapsed": true
   },
   "outputs": [],
   "source": [
    "grid_eval_metric = ['accuracy']"
   ]
  },
  {
   "cell_type": "code",
   "execution_count": 177,
   "metadata": {
    "scrolled": false
   },
   "outputs": [
    {
     "name": "stdout",
     "output_type": "stream",
     "text": [
      "# Complete Param tuning - LINEAR kernel\n",
      "# Tuning hyper-parameters for accuracy\n",
      "\n",
      "Fitting 5 folds for each of 7 candidates, totalling 35 fits\n"
     ]
    },
    {
     "name": "stderr",
     "output_type": "stream",
     "text": [
      "[Parallel(n_jobs=1)]: Done  35 out of  35 | elapsed: 13.5min finished\n"
     ]
    },
    {
     "name": "stdout",
     "output_type": "stream",
     "text": [
      "Best parameters set found on development set:\n",
      "\n",
      "{'C': 100000, 'kernel': 'linear'}\n",
      "\n",
      "Grid scores on development set:\n",
      "\n",
      "Training Score   | Testing Score\n",
      "\n",
      "0.924 (+/-0.003) | 0.921 (+/-0.033) for {'C': 1, 'kernel': 'linear'}\n",
      "0.944 (+/-0.004) | 0.942 (+/-0.023) for {'C': 10, 'kernel': 'linear'}\n",
      "0.952 (+/-0.004) | 0.950 (+/-0.028) for {'C': 100, 'kernel': 'linear'}\n",
      "0.952 (+/-0.004) | 0.950 (+/-0.028) for {'C': 1000, 'kernel': 'linear'}\n",
      "0.953 (+/-0.004) | 0.950 (+/-0.029) for {'C': 10000, 'kernel': 'linear'}\n",
      "0.953 (+/-0.004) | 0.950 (+/-0.030) for {'C': 100000, 'kernel': 'linear'}\n",
      "0.955 (+/-0.005) | 0.950 (+/-0.028) for {'C': 1000000, 'kernel': 'linear'}\n",
      "\n",
      "# Train & Test Accuracy Plot\n"
     ]
    },
    {
     "data": {
      "image/png": "[encoded data removed]",
      "text/plain": [
       "<matplotlib.figure.Figure at 0x10fea6a90>"
      ]
     },
     "metadata": {},
     "output_type": "display_data"
    }
   ],
   "source": [
    "# Complete Param tuning - LINEAR kernel\n",
    "print(\"# Complete Param tuning - LINEAR kernel\")\n",
    "# Set the parameters by cross-validation\n",
    "tuned_parameters_linear = [\n",
    "                    {'kernel': ['linear'], 'C': [1, 10,100, 1000, 10000,100000,1000000]}\n",
    "                   ]\n",
    "\n",
    "for score in grid_eval_metric:\n",
    "    print(\"# Tuning hyper-parameters for %s\" % score)\n",
    "    print()\n",
    "\n",
    "    clf_tune_linear = model_selection.GridSearchCV(svm.SVC(), tuned_parameters_linear, cv=5,\n",
    "                       scoring='%s' % score, verbose=True)\n",
    "    clf_tune_linear.fit(x_reduced,y)\n",
    "    print(\"Best parameters set found on development set:\")\n",
    "    print()\n",
    "    print(clf_tune_linear.best_params_)\n",
    "    print()\n",
    "    print(\"Grid scores on development set:\")\n",
    "    print()\n",
    "    print(\"Training Score   | Testing Score\")\n",
    "    print()\n",
    "    means_linear = clf_tune_linear.cv_results_['mean_test_score']\n",
    "    stds = clf_tune_linear.cv_results_['std_test_score']\n",
    "    means_linear_train = clf_tune_linear.cv_results_['mean_train_score']\n",
    "    stds_train = clf_tune_linear.cv_results_['std_train_score']\n",
    "    for mean_t, std_t, mean, std, params in zip(means_linear_train, stds_train, means_linear, stds, clf_tune_linear.cv_results_['params']):\n",
    "        print(\"%0.3f (+/-%0.03f) | %0.3f (+/-%0.03f) for %r\"\n",
    "              % (mean_t, std_t, mean, std * 2, params))\n",
    "    print()\n",
    "    \n",
    "C_linear = [1, 10,100, 1000, 10000,100000,1000000]\n",
    "\n",
    "print(\"# Train & Test Accuracy Plot\")\n",
    "plt.xticks(range(len(means_linear)), C_linear)\n",
    "plt.plot(means_linear, label=\"Test\")\n",
    "plt.plot(means_linear_train, label=\"Train\")\n",
    "plt.xlabel('C')\n",
    "plt.ylabel('Accuracy')\n",
    "plt.grid()\n",
    "plt.show()"
   ]
  },
  {
   "cell_type": "code",
   "execution_count": 180,
   "metadata": {},
   "outputs": [
    {
     "name": "stdout",
     "output_type": "stream",
     "text": [
      "# Complete Param tuning - LINEAR kernel - 02\n",
      "# Tuning hyper-parameters for accuracy\n",
      "\n",
      "Fitting 5 folds for each of 7 candidates, totalling 35 fits\n"
     ]
    },
    {
     "name": "stderr",
     "output_type": "stream",
     "text": [
      "[Parallel(n_jobs=1)]: Done  35 out of  35 | elapsed:    5.5s finished\n"
     ]
    },
    {
     "name": "stdout",
     "output_type": "stream",
     "text": [
      "Best parameters set found on development set:\n",
      "\n",
      "{'C': 250, 'kernel': 'linear'}\n",
      "\n",
      "Grid scores on development set:\n",
      "\n",
      "Training Score   | Testing Score\n",
      "\n",
      "0.952 (+/-0.008) | 0.950 (+/-0.028) for {'C': 100, 'kernel': 'linear'}\n",
      "0.952 (+/-0.008) | 0.950 (+/-0.027) for {'C': 125, 'kernel': 'linear'}\n",
      "0.952 (+/-0.007) | 0.950 (+/-0.027) for {'C': 150, 'kernel': 'linear'}\n",
      "0.952 (+/-0.007) | 0.950 (+/-0.028) for {'C': 250, 'kernel': 'linear'}\n",
      "0.952 (+/-0.007) | 0.950 (+/-0.028) for {'C': 500, 'kernel': 'linear'}\n",
      "0.952 (+/-0.008) | 0.950 (+/-0.028) for {'C': 750, 'kernel': 'linear'}\n",
      "0.952 (+/-0.008) | 0.950 (+/-0.028) for {'C': 1000, 'kernel': 'linear'}\n",
      "\n",
      "# Train & Test Accuracy Plot\n"
     ]
    },
    {
     "data": {
      "image/png": "[encoded data removed]",
      "text/plain": [
       "<matplotlib.figure.Figure at 0x1101d7b38>"
      ]
     },
     "metadata": {},
     "output_type": "display_data"
    }
   ],
   "source": [
    "# We see that for C=100 to 1000 there is a rise in accuracy after which accuracy stabilises\n",
    "# Therefore, we check for accuracy values for C ranging 100 to 1000 for a better understanding\n",
    "\n",
    "# Complete Param tuning - LINEAR kernel - 02\n",
    "print(\"# Complete Param tuning - LINEAR kernel - 02\")\n",
    "# Set the parameters by cross-validation\n",
    "tuned_parameters_linear_02 = [\n",
    "                    {'kernel': ['linear'], 'C': [100, 125, 150, 250, 500, 750, 1000]}\n",
    "                   ]\n",
    "\n",
    "for score in grid_eval_metric:\n",
    "    print(\"# Tuning hyper-parameters for %s\" % score)\n",
    "    print()\n",
    "\n",
    "    clf_tune_linear_02 = model_selection.GridSearchCV(svm.SVC(), tuned_parameters_linear_02, cv=5,\n",
    "                       scoring='%s' % score, verbose=True)\n",
    "    clf_tune_linear_02.fit(x_reduced,y)\n",
    "    print(\"Best parameters set found on development set:\")\n",
    "    print()\n",
    "    print(clf_tune_linear_02.best_params_)\n",
    "    print()\n",
    "    print(\"Grid scores on development set:\")\n",
    "    print()\n",
    "    print(\"Training Score   | Testing Score\")\n",
    "    print()\n",
    "    means_linear_02 = clf_tune_linear_02.cv_results_['mean_test_score']\n",
    "    stds = clf_tune_linear_02.cv_results_['std_test_score']\n",
    "    means_linear_02_train = clf_tune_linear_02.cv_results_['mean_train_score']\n",
    "    stds_train = clf_tune_linear_02.cv_results_['std_train_score']\n",
    "    for mean_t, std_t, mean, std, params in zip(means_linear_02_train, stds_train, means_linear_02, stds, clf_tune_linear_02.cv_results_['params']):\n",
    "        print(\"%0.3f (+/-%0.03f) | %0.3f (+/-%0.03f) for %r\"\n",
    "              % (mean_t, std_t * 2, mean, std * 2, params))\n",
    "    print()\n",
    "    \n",
    "C_linear_02 = [100, 125, 150, 250, 500, 750, 1000]\n",
    "\n",
    "print(\"# Train & Test Accuracy Plot\")\n",
    "#plt.scatter(C_linear_02,Acc_linear_02)\n",
    "plt.xticks(range(len(means_linear_02)), C_linear_02)\n",
    "plt.plot(means_linear_02, label=\"Test\")\n",
    "plt.plot(means_linear_02_train, label=\"Train\")\n",
    "plt.xlabel('C')\n",
    "plt.ylabel('Accuracy')\n",
    "plt.grid()\n",
    "plt.show()"
   ]
  },
  {
   "cell_type": "code",
   "execution_count": 181,
   "metadata": {
    "scrolled": false
   },
   "outputs": [
    {
     "name": "stdout",
     "output_type": "stream",
     "text": [
      "# Complete Param tuning - RBF kernel\n",
      "# Tuning hyper-parameters for accuracy\n",
      "\n",
      "Fitting 5 folds for each of 81 candidates, totalling 405 fits\n"
     ]
    },
    {
     "name": "stderr",
     "output_type": "stream",
     "text": [
      "[Parallel(n_jobs=1)]: Done 405 out of 405 | elapsed:  4.1min finished\n"
     ]
    },
    {
     "name": "stdout",
     "output_type": "stream",
     "text": [
      "Best parameters set found on development set:\n",
      "\n",
      "{'C': 25, 'gamma': 100, 'kernel': 'rbf'}\n",
      "\n",
      "Grid scores on development set:\n",
      "\n",
      "Training Score   | Testing Score\n",
      "\n",
      "0.982 (+/-0.002) | 0.974 (+/-0.013) for {'C': 1, 'gamma': 100, 'kernel': 'rbf'}\n",
      "0.960 (+/-0.002) | 0.954 (+/-0.012) for {'C': 1, 'gamma': 10, 'kernel': 'rbf'}\n",
      "0.944 (+/-0.002) | 0.940 (+/-0.015) for {'C': 1, 'gamma': 1, 'kernel': 'rbf'}\n",
      "0.912 (+/-0.007) | 0.912 (+/-0.026) for {'C': 1, 'gamma': 0.1, 'kernel': 'rbf'}\n",
      "0.576 (+/-0.016) | 0.575 (+/-0.019) for {'C': 1, 'gamma': 0.01, 'kernel': 'rbf'}\n",
      "0.500 (+/-0.022) | 0.499 (+/-0.030) for {'C': 1, 'gamma': 0.001, 'kernel': 'rbf'}\n",
      "0.408 (+/-0.000) | 0.408 (+/-0.001) for {'C': 1, 'gamma': 0.0001, 'kernel': 'rbf'}\n",
      "0.408 (+/-0.000) | 0.408 (+/-0.001) for {'C': 1, 'gamma': 1e-05, 'kernel': 'rbf'}\n",
      "0.408 (+/-0.000) | 0.408 (+/-0.001) for {'C': 1, 'gamma': 1e-06, 'kernel': 'rbf'}\n",
      "0.991 (+/-0.002) | 0.978 (+/-0.011) for {'C': 10, 'gamma': 100, 'kernel': 'rbf'}\n",
      "0.978 (+/-0.004) | 0.969 (+/-0.016) for {'C': 10, 'gamma': 10, 'kernel': 'rbf'}\n",
      "0.960 (+/-0.007) | 0.956 (+/-0.012) for {'C': 10, 'gamma': 1, 'kernel': 'rbf'}\n",
      "0.936 (+/-0.003) | 0.934 (+/-0.027) for {'C': 10, 'gamma': 0.1, 'kernel': 'rbf'}\n",
      "0.909 (+/-0.005) | 0.908 (+/-0.027) for {'C': 10, 'gamma': 0.01, 'kernel': 'rbf'}\n",
      "0.577 (+/-0.016) | 0.577 (+/-0.018) for {'C': 10, 'gamma': 0.001, 'kernel': 'rbf'}\n",
      "0.501 (+/-0.023) | 0.501 (+/-0.028) for {'C': 10, 'gamma': 0.0001, 'kernel': 'rbf'}\n",
      "0.408 (+/-0.000) | 0.408 (+/-0.001) for {'C': 10, 'gamma': 1e-05, 'kernel': 'rbf'}\n",
      "0.408 (+/-0.000) | 0.408 (+/-0.001) for {'C': 10, 'gamma': 1e-06, 'kernel': 'rbf'}\n",
      "0.993 (+/-0.002) | 0.979 (+/-0.011) for {'C': 25, 'gamma': 100, 'kernel': 'rbf'}\n",
      "0.981 (+/-0.003) | 0.972 (+/-0.015) for {'C': 25, 'gamma': 10, 'kernel': 'rbf'}\n",
      "0.966 (+/-0.006) | 0.962 (+/-0.015) for {'C': 25, 'gamma': 1, 'kernel': 'rbf'}\n",
      "0.947 (+/-0.006) | 0.943 (+/-0.018) for {'C': 25, 'gamma': 0.1, 'kernel': 'rbf'}\n",
      "0.928 (+/-0.004) | 0.926 (+/-0.024) for {'C': 25, 'gamma': 0.01, 'kernel': 'rbf'}\n",
      "0.687 (+/-0.025) | 0.686 (+/-0.038) for {'C': 25, 'gamma': 0.001, 'kernel': 'rbf'}\n",
      "0.562 (+/-0.033) | 0.562 (+/-0.032) for {'C': 25, 'gamma': 0.0001, 'kernel': 'rbf'}\n",
      "0.408 (+/-0.000) | 0.408 (+/-0.001) for {'C': 25, 'gamma': 1e-05, 'kernel': 'rbf'}\n",
      "0.408 (+/-0.000) | 0.408 (+/-0.001) for {'C': 25, 'gamma': 1e-06, 'kernel': 'rbf'}\n",
      "0.994 (+/-0.002) | 0.978 (+/-0.015) for {'C': 50, 'gamma': 100, 'kernel': 'rbf'}\n",
      "0.983 (+/-0.004) | 0.972 (+/-0.011) for {'C': 50, 'gamma': 10, 'kernel': 'rbf'}\n",
      "0.971 (+/-0.005) | 0.966 (+/-0.017) for {'C': 50, 'gamma': 1, 'kernel': 'rbf'}\n",
      "0.954 (+/-0.006) | 0.950 (+/-0.019) for {'C': 50, 'gamma': 0.1, 'kernel': 'rbf'}\n",
      "0.925 (+/-0.006) | 0.923 (+/-0.035) for {'C': 50, 'gamma': 0.01, 'kernel': 'rbf'}\n",
      "0.849 (+/-0.019) | 0.845 (+/-0.029) for {'C': 50, 'gamma': 0.001, 'kernel': 'rbf'}\n",
      "0.585 (+/-0.029) | 0.587 (+/-0.050) for {'C': 50, 'gamma': 0.0001, 'kernel': 'rbf'}\n",
      "0.408 (+/-0.000) | 0.408 (+/-0.001) for {'C': 50, 'gamma': 1e-05, 'kernel': 'rbf'}\n",
      "0.408 (+/-0.000) | 0.408 (+/-0.001) for {'C': 50, 'gamma': 1e-06, 'kernel': 'rbf'}\n",
      "0.994 (+/-0.002) | 0.976 (+/-0.013) for {'C': 100, 'gamma': 100, 'kernel': 'rbf'}\n",
      "0.984 (+/-0.004) | 0.974 (+/-0.011) for {'C': 100, 'gamma': 10, 'kernel': 'rbf'}\n",
      "0.974 (+/-0.006) | 0.968 (+/-0.017) for {'C': 100, 'gamma': 1, 'kernel': 'rbf'}\n",
      "0.957 (+/-0.005) | 0.955 (+/-0.016) for {'C': 100, 'gamma': 0.1, 'kernel': 'rbf'}\n",
      "0.931 (+/-0.006) | 0.927 (+/-0.027) for {'C': 100, 'gamma': 0.01, 'kernel': 'rbf'}\n",
      "0.909 (+/-0.006) | 0.908 (+/-0.027) for {'C': 100, 'gamma': 0.001, 'kernel': 'rbf'}\n",
      "0.577 (+/-0.016) | 0.577 (+/-0.018) for {'C': 100, 'gamma': 0.0001, 'kernel': 'rbf'}\n",
      "0.501 (+/-0.024) | 0.502 (+/-0.028) for {'C': 100, 'gamma': 1e-05, 'kernel': 'rbf'}\n",
      "0.408 (+/-0.000) | 0.408 (+/-0.001) for {'C': 100, 'gamma': 1e-06, 'kernel': 'rbf'}\n",
      "0.997 (+/-0.002) | 0.973 (+/-0.014) for {'C': 1000, 'gamma': 100, 'kernel': 'rbf'}\n",
      "0.989 (+/-0.004) | 0.974 (+/-0.013) for {'C': 1000, 'gamma': 10, 'kernel': 'rbf'}\n",
      "0.980 (+/-0.005) | 0.972 (+/-0.018) for {'C': 1000, 'gamma': 1, 'kernel': 'rbf'}\n",
      "0.967 (+/-0.005) | 0.960 (+/-0.020) for {'C': 1000, 'gamma': 0.1, 'kernel': 'rbf'}\n",
      "0.952 (+/-0.006) | 0.949 (+/-0.022) for {'C': 1000, 'gamma': 0.01, 'kernel': 'rbf'}\n",
      "0.929 (+/-0.005) | 0.927 (+/-0.029) for {'C': 1000, 'gamma': 0.001, 'kernel': 'rbf'}\n",
      "0.909 (+/-0.007) | 0.908 (+/-0.027) for {'C': 1000, 'gamma': 0.0001, 'kernel': 'rbf'}\n",
      "0.577 (+/-0.016) | 0.577 (+/-0.018) for {'C': 1000, 'gamma': 1e-05, 'kernel': 'rbf'}\n",
      "0.500 (+/-0.023) | 0.499 (+/-0.028) for {'C': 1000, 'gamma': 1e-06, 'kernel': 'rbf'}\n",
      "0.999 (+/-0.002) | 0.971 (+/-0.016) for {'C': 10000, 'gamma': 100, 'kernel': 'rbf'}\n",
      "0.993 (+/-0.002) | 0.972 (+/-0.018) for {'C': 10000, 'gamma': 10, 'kernel': 'rbf'}\n",
      "0.984 (+/-0.005) | 0.973 (+/-0.014) for {'C': 10000, 'gamma': 1, 'kernel': 'rbf'}\n",
      "0.977 (+/-0.005) | 0.970 (+/-0.017) for {'C': 10000, 'gamma': 0.1, 'kernel': 'rbf'}\n",
      "0.960 (+/-0.008) | 0.956 (+/-0.020) for {'C': 10000, 'gamma': 0.01, 'kernel': 'rbf'}\n",
      "0.950 (+/-0.009) | 0.945 (+/-0.024) for {'C': 10000, 'gamma': 0.001, 'kernel': 'rbf'}\n",
      "0.928 (+/-0.006) | 0.926 (+/-0.030) for {'C': 10000, 'gamma': 0.0001, 'kernel': 'rbf'}\n",
      "0.909 (+/-0.006) | 0.908 (+/-0.027) for {'C': 10000, 'gamma': 1e-05, 'kernel': 'rbf'}\n",
      "0.581 (+/-0.017) | 0.581 (+/-0.022) for {'C': 10000, 'gamma': 1e-06, 'kernel': 'rbf'}\n",
      "0.999 (+/-0.001) | 0.955 (+/-0.028) for {'C': 100000, 'gamma': 100, 'kernel': 'rbf'}\n",
      "0.995 (+/-0.002) | 0.969 (+/-0.028) for {'C': 100000, 'gamma': 10, 'kernel': 'rbf'}\n",
      "0.987 (+/-0.002) | 0.973 (+/-0.017) for {'C': 100000, 'gamma': 1, 'kernel': 'rbf'}\n",
      "0.980 (+/-0.005) | 0.972 (+/-0.020) for {'C': 100000, 'gamma': 0.1, 'kernel': 'rbf'}\n",
      "0.968 (+/-0.006) | 0.961 (+/-0.021) for {'C': 100000, 'gamma': 0.01, 'kernel': 'rbf'}\n",
      "0.958 (+/-0.007) | 0.954 (+/-0.027) for {'C': 100000, 'gamma': 0.001, 'kernel': 'rbf'}\n",
      "0.949 (+/-0.009) | 0.944 (+/-0.025) for {'C': 100000, 'gamma': 0.0001, 'kernel': 'rbf'}\n",
      "0.928 (+/-0.006) | 0.927 (+/-0.025) for {'C': 100000, 'gamma': 1e-05, 'kernel': 'rbf'}\n",
      "0.858 (+/-0.010) | 0.854 (+/-0.032) for {'C': 100000, 'gamma': 1e-06, 'kernel': 'rbf'}\n",
      "1.000 (+/-0.000) | 0.923 (+/-0.029) for {'C': 1000000, 'gamma': 100, 'kernel': 'rbf'}\n",
      "0.996 (+/-0.002) | 0.963 (+/-0.029) for {'C': 1000000, 'gamma': 10, 'kernel': 'rbf'}\n",
      "0.990 (+/-0.003) | 0.970 (+/-0.019) for {'C': 1000000, 'gamma': 1, 'kernel': 'rbf'}\n",
      "0.983 (+/-0.006) | 0.973 (+/-0.019) for {'C': 1000000, 'gamma': 0.1, 'kernel': 'rbf'}\n",
      "0.977 (+/-0.003) | 0.968 (+/-0.019) for {'C': 1000000, 'gamma': 0.01, 'kernel': 'rbf'}\n",
      "0.962 (+/-0.008) | 0.956 (+/-0.022) for {'C': 1000000, 'gamma': 0.001, 'kernel': 'rbf'}\n",
      "0.954 (+/-0.008) | 0.950 (+/-0.030) for {'C': 1000000, 'gamma': 0.0001, 'kernel': 'rbf'}\n",
      "0.948 (+/-0.007) | 0.946 (+/-0.027) for {'C': 1000000, 'gamma': 1e-05, 'kernel': 'rbf'}\n",
      "0.922 (+/-0.006) | 0.921 (+/-0.029) for {'C': 1000000, 'gamma': 1e-06, 'kernel': 'rbf'}\n",
      "\n"
     ]
    }
   ],
   "source": [
    "# Complete Param tuning - RBF kernel\n",
    "\n",
    "# Set the parameters by cross-validation\n",
    "C_range = [1, 10, 25, 50,100, 1000, 10000,100000,1000000]\n",
    "gamma_range = [100, 10, 1, 1e-1, 1e-2, 1e-3, 1e-4, 1e-5, 1e-6]\n",
    "tuned_parameters_rbf = [\n",
    "                    {'kernel': ['rbf'], 'gamma': gamma_range, 'C': C_range}\n",
    "                   ]\n",
    "\n",
    "print(\"# Complete Param tuning - RBF kernel\")\n",
    "for score in grid_eval_metric:\n",
    "    print(\"# Tuning hyper-parameters for %s\" % score)\n",
    "    print()\n",
    "\n",
    "    clf_tune_rbf = model_selection.GridSearchCV(svm.SVC(), tuned_parameters_rbf, cv=5,\n",
    "                       scoring='%s' % score, verbose=True)\n",
    "    clf_tune_rbf.fit(x_reduced,y)\n",
    "    print(\"Best parameters set found on development set:\")\n",
    "    print()\n",
    "    print(clf_tune_rbf.best_params_)\n",
    "    print()\n",
    "    print(\"Grid scores on development set:\")\n",
    "    print()\n",
    "    print(\"Training Score   | Testing Score\")\n",
    "    print()\n",
    "    means_rbf = clf_tune_rbf.cv_results_['mean_test_score']\n",
    "    stds_rbf = clf_tune_rbf.cv_results_['std_test_score']\n",
    "    means_rbf_train = clf_tune_rbf.cv_results_['mean_train_score']\n",
    "    stds_rbf_train = clf_tune_rbf.cv_results_['std_train_score']\n",
    "    for mean_t, std_t, mean, std, params in zip(means_rbf_train, stds_rbf_train, means_rbf, stds_rbf, clf_tune_rbf.cv_results_['params']):\n",
    "        print(\"%0.3f (+/-%0.03f) | %0.3f (+/-%0.03f) for %r\"\n",
    "              % (mean_t, std_t * 2, mean, std * 2, params))\n",
    "    print()\n"
   ]
  },
  {
   "cell_type": "code",
   "execution_count": 182,
   "metadata": {},
   "outputs": [
    {
     "data": {
      "image/png": "[encoded data removed]",
      "text/plain": [
       "<matplotlib.figure.Figure at 0x10fd32e10>"
      ]
     },
     "metadata": {},
     "output_type": "display_data"
    },
    {
     "data": {
      "image/png": "[encoded data removed]",
      "text/plain": [
       "<matplotlib.figure.Figure at 0x10fb30978>"
      ]
     },
     "metadata": {},
     "output_type": "display_data"
    }
   ],
   "source": [
    "#heatmap for rbf kernel\n",
    "scores_rbf = means_rbf.reshape(len(C_range),len(gamma_range))\n",
    "scores_rbf_train = means_rbf_train.reshape(len(C_range),len(gamma_range))\n",
    "\n",
    "# Draw heatmap of the validation accuracy as a function of gamma and C\n",
    "#\n",
    "# The score are encoded as colors with the hot colormap which varies from dark\n",
    "# red to bright yellow. As the most interesting scores are all located in the\n",
    "# 0.92 to 0.97 range we use a custom normalizer to set the mid-point to 0.92 so\n",
    "# as to make it easier to visualize the small variations of score values in the\n",
    "# interesting range while not brutally collapsing all the low score values to\n",
    "# the same color.\n",
    "\n",
    "plt.figure(figsize=(8, 6))\n",
    "plt.subplots_adjust(left=.2, right=0.95, bottom=0.15, top=0.95)\n",
    "plt.imshow(scores_rbf_train, interpolation='nearest', cmap=plt.cm.hot,\n",
    "           norm=MidpointNormalize(vmin=0.2, midpoint=0.92))\n",
    "plt.xlabel('gamma')\n",
    "plt.ylabel('C')\n",
    "plt.colorbar()\n",
    "plt.xticks(np.arange(len(gamma_range)), gamma_range, rotation=45)\n",
    "plt.yticks(np.arange(len(C_range)), C_range)\n",
    "plt.title('Training accuracy - rbf kernel')\n",
    "plt.show()\n",
    "\n",
    "plt.figure(figsize=(8, 6))\n",
    "plt.subplots_adjust(left=.2, right=0.95, bottom=0.15, top=0.95)\n",
    "plt.imshow(scores_rbf, interpolation='nearest', cmap=plt.cm.hot,\n",
    "           norm=MidpointNormalize(vmin=0.2, midpoint=0.92))\n",
    "plt.xlabel('gamma')\n",
    "plt.ylabel('C')\n",
    "plt.colorbar()\n",
    "plt.xticks(np.arange(len(gamma_range)), gamma_range, rotation=45)\n",
    "plt.yticks(np.arange(len(C_range)), C_range)\n",
    "plt.title('Validation accuracy - rbf kernel')\n",
    "plt.show()"
   ]
  },
  {
   "cell_type": "raw",
   "metadata": {},
   "source": [
    "# SUMMARY OF PARAMS THAT GIVE HIGH ACCURACY (FOR COMPARISION LATER)\n",
    "\n",
    "0.993 (+/-0.002) | 0.979 (+/-0.011) for {'C': 25, 'gamma': 100, 'kernel': 'rbf'}\n",
    "0.991 (+/-0.002) | 0.978 (+/-0.011) for {'C': 10, 'gamma': 100, 'kernel': 'rbf'}\n",
    "0.994 (+/-0.002) | 0.978 (+/-0.015) for {'C': 50, 'gamma': 100, 'kernel': 'rbf'}\n",
    "0.994 (+/-0.002) | 0.976 (+/-0.013) for {'C': 100, 'gamma': 100, 'kernel': 'rbf'}\n"
   ]
  },
  {
   "cell_type": "code",
   "execution_count": 183,
   "metadata": {
    "scrolled": true
   },
   "outputs": [
    {
     "name": "stdout",
     "output_type": "stream",
     "text": [
      "# Complete Param tuning - SIGMOID kernel\n",
      "# Tuning hyper-parameters for accuracy\n",
      "\n",
      "Fitting 5 folds for each of 81 candidates, totalling 405 fits\n",
      "Best parameters set found on development set:\n",
      "\n",
      "{'C': 100000, 'gamma': 0.001, 'kernel': 'sigmoid'}\n",
      "\n",
      "Grid scores on development set:\n",
      "\n",
      "Training Score   | Testing Score\n",
      "\n",
      "0.408 (+/-0.000) | 0.408 (+/-0.001) for {'C': 1, 'gamma': 100, 'kernel': 'sigmoid'}\n",
      "0.269 (+/-0.109) | 0.269 (+/-0.190) for {'C': 1, 'gamma': 10, 'kernel': 'sigmoid'}\n",
      "0.698 (+/-0.007) | 0.696 (+/-0.067) for {'C': 1, 'gamma': 1, 'kernel': 'sigmoid'}\n",
      "0.848 (+/-0.010) | 0.844 (+/-0.029) for {'C': 1, 'gamma': 0.1, 'kernel': 'sigmoid'}\n",
      "0.585 (+/-0.014) | 0.587 (+/-0.050) for {'C': 1, 'gamma': 0.01, 'kernel': 'sigmoid'}\n",
      "0.408 (+/-0.000) | 0.408 (+/-0.001) for {'C': 1, 'gamma': 0.001, 'kernel': 'sigmoid'}\n",
      "0.408 (+/-0.000) | 0.408 (+/-0.001) for {'C': 1, 'gamma': 0.0001, 'kernel': 'sigmoid'}\n",
      "0.408 (+/-0.000) | 0.408 (+/-0.001) for {'C': 1, 'gamma': 1e-05, 'kernel': 'sigmoid'}\n",
      "0.408 (+/-0.000) | 0.408 (+/-0.001) for {'C': 1, 'gamma': 1e-06, 'kernel': 'sigmoid'}\n",
      "0.425 (+/-0.040) | 0.428 (+/-0.102) for {'C': 10, 'gamma': 100, 'kernel': 'sigmoid'}\n",
      "0.416 (+/-0.102) | 0.415 (+/-0.194) for {'C': 10, 'gamma': 10, 'kernel': 'sigmoid'}\n",
      "0.645 (+/-0.005) | 0.643 (+/-0.078) for {'C': 10, 'gamma': 1, 'kernel': 'sigmoid'}\n",
      "0.923 (+/-0.003) | 0.920 (+/-0.029) for {'C': 10, 'gamma': 0.1, 'kernel': 'sigmoid'}\n",
      "0.849 (+/-0.009) | 0.845 (+/-0.029) for {'C': 10, 'gamma': 0.01, 'kernel': 'sigmoid'}\n",
      "0.585 (+/-0.014) | 0.587 (+/-0.050) for {'C': 10, 'gamma': 0.001, 'kernel': 'sigmoid'}\n",
      "0.408 (+/-0.000) | 0.408 (+/-0.001) for {'C': 10, 'gamma': 0.0001, 'kernel': 'sigmoid'}\n",
      "0.408 (+/-0.000) | 0.408 (+/-0.001) for {'C': 10, 'gamma': 1e-05, 'kernel': 'sigmoid'}\n",
      "0.408 (+/-0.000) | 0.408 (+/-0.001) for {'C': 10, 'gamma': 1e-06, 'kernel': 'sigmoid'}\n",
      "0.450 (+/-0.004) | 0.455 (+/-0.027) for {'C': 25, 'gamma': 100, 'kernel': 'sigmoid'}\n",
      "0.415 (+/-0.102) | 0.414 (+/-0.194) for {'C': 25, 'gamma': 10, 'kernel': 'sigmoid'}\n",
      "0.643 (+/-0.006) | 0.639 (+/-0.075) for {'C': 25, 'gamma': 1, 'kernel': 'sigmoid'}\n",
      "0.928 (+/-0.003) | 0.925 (+/-0.022) for {'C': 25, 'gamma': 0.1, 'kernel': 'sigmoid'}\n",
      "0.915 (+/-0.004) | 0.915 (+/-0.025) for {'C': 25, 'gamma': 0.01, 'kernel': 'sigmoid'}\n",
      "0.590 (+/-0.007) | 0.589 (+/-0.027) for {'C': 25, 'gamma': 0.001, 'kernel': 'sigmoid'}\n",
      "0.536 (+/-0.020) | 0.542 (+/-0.086) for {'C': 25, 'gamma': 0.0001, 'kernel': 'sigmoid'}\n",
      "0.408 (+/-0.000) | 0.408 (+/-0.001) for {'C': 25, 'gamma': 1e-05, 'kernel': 'sigmoid'}\n",
      "0.408 (+/-0.000) | 0.408 (+/-0.001) for {'C': 25, 'gamma': 1e-06, 'kernel': 'sigmoid'}\n",
      "0.448 (+/-0.004) | 0.452 (+/-0.022) for {'C': 50, 'gamma': 100, 'kernel': 'sigmoid'}\n",
      "0.415 (+/-0.102) | 0.414 (+/-0.193) for {'C': 50, 'gamma': 10, 'kernel': 'sigmoid'}\n",
      "0.643 (+/-0.007) | 0.629 (+/-0.082) for {'C': 50, 'gamma': 1, 'kernel': 'sigmoid'}\n",
      "0.931 (+/-0.003) | 0.926 (+/-0.021) for {'C': 50, 'gamma': 0.1, 'kernel': 'sigmoid'}\n",
      "0.928 (+/-0.002) | 0.926 (+/-0.024) for {'C': 50, 'gamma': 0.01, 'kernel': 'sigmoid'}\n",
      "0.687 (+/-0.013) | 0.686 (+/-0.038) for {'C': 50, 'gamma': 0.001, 'kernel': 'sigmoid'}\n",
      "0.563 (+/-0.016) | 0.562 (+/-0.032) for {'C': 50, 'gamma': 0.0001, 'kernel': 'sigmoid'}\n",
      "0.408 (+/-0.000) | 0.408 (+/-0.001) for {'C': 50, 'gamma': 1e-05, 'kernel': 'sigmoid'}\n",
      "0.408 (+/-0.000) | 0.408 (+/-0.001) for {'C': 50, 'gamma': 1e-06, 'kernel': 'sigmoid'}\n",
      "0.442 (+/-0.008) | 0.444 (+/-0.026) for {'C': 100, 'gamma': 100, 'kernel': 'sigmoid'}\n",
      "0.414 (+/-0.102) | 0.413 (+/-0.193) for {'C': 100, 'gamma': 10, 'kernel': 'sigmoid'}\n",
      "0.640 (+/-0.006) | 0.637 (+/-0.075) for {'C': 100, 'gamma': 1, 'kernel': 'sigmoid'}\n",
      "0.931 (+/-0.005) | 0.927 (+/-0.020) for {'C': 100, 'gamma': 0.1, 'kernel': 'sigmoid'}\n",
      "0.924 (+/-0.003) | 0.921 (+/-0.032) for {'C': 100, 'gamma': 0.01, 'kernel': 'sigmoid'}\n",
      "0.849 (+/-0.010) | 0.845 (+/-0.029) for {'C': 100, 'gamma': 0.001, 'kernel': 'sigmoid'}\n",
      "0.585 (+/-0.014) | 0.587 (+/-0.050) for {'C': 100, 'gamma': 0.0001, 'kernel': 'sigmoid'}\n",
      "0.408 (+/-0.000) | 0.408 (+/-0.001) for {'C': 100, 'gamma': 1e-05, 'kernel': 'sigmoid'}\n",
      "0.408 (+/-0.000) | 0.408 (+/-0.001) for {'C': 100, 'gamma': 1e-06, 'kernel': 'sigmoid'}\n",
      "0.436 (+/-0.021) | 0.437 (+/-0.047) for {'C': 1000, 'gamma': 100, 'kernel': 'sigmoid'}\n",
      "0.414 (+/-0.102) | 0.414 (+/-0.193) for {'C': 1000, 'gamma': 10, 'kernel': 'sigmoid'}\n",
      "0.640 (+/-0.006) | 0.636 (+/-0.075) for {'C': 1000, 'gamma': 1, 'kernel': 'sigmoid'}\n",
      "0.928 (+/-0.006) | 0.922 (+/-0.026) for {'C': 1000, 'gamma': 0.1, 'kernel': 'sigmoid'}\n",
      "0.944 (+/-0.004) | 0.941 (+/-0.022) for {'C': 1000, 'gamma': 0.01, 'kernel': 'sigmoid'}\n",
      "0.924 (+/-0.003) | 0.921 (+/-0.033) for {'C': 1000, 'gamma': 0.001, 'kernel': 'sigmoid'}\n",
      "0.849 (+/-0.009) | 0.845 (+/-0.029) for {'C': 1000, 'gamma': 0.0001, 'kernel': 'sigmoid'}\n",
      "0.585 (+/-0.014) | 0.587 (+/-0.050) for {'C': 1000, 'gamma': 1e-05, 'kernel': 'sigmoid'}\n",
      "0.408 (+/-0.000) | 0.408 (+/-0.001) for {'C': 1000, 'gamma': 1e-06, 'kernel': 'sigmoid'}\n",
      "0.435 (+/-0.022) | 0.436 (+/-0.050) for {'C': 10000, 'gamma': 100, 'kernel': 'sigmoid'}\n",
      "0.414 (+/-0.102) | 0.414 (+/-0.193) for {'C': 10000, 'gamma': 10, 'kernel': 'sigmoid'}\n",
      "0.640 (+/-0.006) | 0.635 (+/-0.073) for {'C': 10000, 'gamma': 1, 'kernel': 'sigmoid'}\n",
      "0.914 (+/-0.005) | 0.903 (+/-0.039) for {'C': 10000, 'gamma': 0.1, 'kernel': 'sigmoid'}\n",
      "0.951 (+/-0.004) | 0.949 (+/-0.029) for {'C': 10000, 'gamma': 0.01, 'kernel': 'sigmoid'}\n",
      "0.944 (+/-0.004) | 0.942 (+/-0.023) for {'C': 10000, 'gamma': 0.001, 'kernel': 'sigmoid'}\n",
      "0.924 (+/-0.003) | 0.921 (+/-0.033) for {'C': 10000, 'gamma': 0.0001, 'kernel': 'sigmoid'}\n",
      "0.849 (+/-0.009) | 0.845 (+/-0.029) for {'C': 10000, 'gamma': 1e-05, 'kernel': 'sigmoid'}\n",
      "0.585 (+/-0.014) | 0.587 (+/-0.050) for {'C': 10000, 'gamma': 1e-06, 'kernel': 'sigmoid'}\n",
      "0.434 (+/-0.023) | 0.436 (+/-0.051) for {'C': 100000, 'gamma': 100, 'kernel': 'sigmoid'}\n",
      "0.414 (+/-0.102) | 0.414 (+/-0.193) for {'C': 100000, 'gamma': 10, 'kernel': 'sigmoid'}\n",
      "0.638 (+/-0.008) | 0.635 (+/-0.065) for {'C': 100000, 'gamma': 1, 'kernel': 'sigmoid'}\n",
      "0.908 (+/-0.006) | 0.896 (+/-0.042) for {'C': 100000, 'gamma': 0.1, 'kernel': 'sigmoid'}\n",
      "0.945 (+/-0.006) | 0.941 (+/-0.024) for {'C': 100000, 'gamma': 0.01, 'kernel': 'sigmoid'}\n",
      "0.952 (+/-0.004) | 0.950 (+/-0.028) for {'C': 100000, 'gamma': 0.001, 'kernel': 'sigmoid'}\n",
      "0.944 (+/-0.004) | 0.942 (+/-0.023) for {'C': 100000, 'gamma': 0.0001, 'kernel': 'sigmoid'}\n",
      "0.924 (+/-0.003) | 0.921 (+/-0.033) for {'C': 100000, 'gamma': 1e-05, 'kernel': 'sigmoid'}\n",
      "0.849 (+/-0.010) | 0.845 (+/-0.029) for {'C': 100000, 'gamma': 1e-06, 'kernel': 'sigmoid'}\n",
      "0.434 (+/-0.023) | 0.436 (+/-0.051) for {'C': 1000000, 'gamma': 100, 'kernel': 'sigmoid'}\n",
      "0.414 (+/-0.102) | 0.414 (+/-0.193) for {'C': 1000000, 'gamma': 10, 'kernel': 'sigmoid'}\n",
      "0.640 (+/-0.006) | 0.635 (+/-0.073) for {'C': 1000000, 'gamma': 1, 'kernel': 'sigmoid'}\n",
      "0.908 (+/-0.004) | 0.894 (+/-0.051) for {'C': 1000000, 'gamma': 0.1, 'kernel': 'sigmoid'}\n",
      "0.933 (+/-0.006) | 0.926 (+/-0.033) for {'C': 1000000, 'gamma': 0.01, 'kernel': 'sigmoid'}\n",
      "0.952 (+/-0.004) | 0.950 (+/-0.027) for {'C': 1000000, 'gamma': 0.001, 'kernel': 'sigmoid'}\n",
      "0.952 (+/-0.004) | 0.950 (+/-0.028) for {'C': 1000000, 'gamma': 0.0001, 'kernel': 'sigmoid'}\n",
      "0.944 (+/-0.004) | 0.942 (+/-0.023) for {'C': 1000000, 'gamma': 1e-05, 'kernel': 'sigmoid'}\n",
      "0.925 (+/-0.003) | 0.921 (+/-0.033) for {'C': 1000000, 'gamma': 1e-06, 'kernel': 'sigmoid'}\n",
      "\n"
     ]
    },
    {
     "name": "stderr",
     "output_type": "stream",
     "text": [
      "[Parallel(n_jobs=1)]: Done 405 out of 405 | elapsed:  2.6min finished\n"
     ]
    }
   ],
   "source": [
    "# Complete Param tuning - sigmoid kernel\n",
    "\n",
    "# Set the parameters by cross-validation\n",
    "C_sigmoid = [1, 10, 25, 50,100, 1000, 10000,100000,1000000]\n",
    "gamma_sigmoid = [100, 10, 1, 1e-1, 1e-2, 1e-3, 1e-4, 1e-5, 1e-6]\n",
    "tuned_parameters_sigmoid = [\n",
    "                    {'kernel': ['sigmoid'], 'gamma': gamma_sigmoid, 'C': C_sigmoid}\n",
    "                   ]\n",
    "\n",
    "print(\"# Complete Param tuning - SIGMOID kernel\")\n",
    "for score in grid_eval_metric:\n",
    "    print(\"# Tuning hyper-parameters for %s\" % score)\n",
    "    print()\n",
    "\n",
    "    clf_tune_sigmoid = model_selection.GridSearchCV(svm.SVC(), tuned_parameters_sigmoid, cv=5,\n",
    "                       scoring='%s' % score, verbose=True)\n",
    "    clf_tune_sigmoid.fit(x_reduced,y)\n",
    "    print(\"Best parameters set found on development set:\")\n",
    "    print()\n",
    "    print(clf_tune_sigmoid.best_params_)\n",
    "    print()\n",
    "    print(\"Grid scores on development set:\")\n",
    "    print()\n",
    "    print(\"Training Score   | Testing Score\")\n",
    "    print()\n",
    "    means_sigmoid = clf_tune_sigmoid.cv_results_['mean_test_score']\n",
    "    stds_sigmoid = clf_tune_sigmoid.cv_results_['std_test_score']\n",
    "    means_sigmoid_train = clf_tune_sigmoid.cv_results_['mean_train_score']\n",
    "    stds_sigmoid_train = clf_tune_sigmoid.cv_results_['std_train_score']\n",
    "    for mean_t, std_t, mean, std, params in zip(means_sigmoid_train, stds_sigmoid_train, means_sigmoid, stds_sigmoid, clf_tune_sigmoid.cv_results_['params']):\n",
    "        print(\"%0.3f (+/-%0.03f) | %0.3f (+/-%0.03f) for %r\"\n",
    "              % (mean_t, std_t, mean, std * 2, params))\n",
    "    print()\n"
   ]
  },
  {
   "cell_type": "code",
   "execution_count": 184,
   "metadata": {},
   "outputs": [
    {
     "data": {
      "image/png": "[encoded data removed]",
      "text/plain": [
       "<matplotlib.figure.Figure at 0x1147f6d68>"
      ]
     },
     "metadata": {},
     "output_type": "display_data"
    },
    {
     "data": {
      "image/png": "[encoded data removed]",
      "text/plain": [
       "<matplotlib.figure.Figure at 0x10fe96358>"
      ]
     },
     "metadata": {},
     "output_type": "display_data"
    }
   ],
   "source": [
    "#heatmap for sigmoid kernel\n",
    "scores_sigmoid = means_sigmoid.reshape(len(C_sigmoid),len(gamma_sigmoid))\n",
    "scores_sigmoid_train = means_sigmoid_train.reshape(len(C_sigmoid),len(gamma_sigmoid))\n",
    "\n",
    "# Draw heatmap of the validation accuracy as a function of gamma and C\n",
    "#\n",
    "# The score are encoded as colors with the hot colormap which varies from dark\n",
    "# red to bright yellow. As the most interesting scores are all located in the\n",
    "# 0.92 to 0.97 range we use a custom normalizer to set the mid-point to 0.92 so\n",
    "# as to make it easier to visualize the small variations of score values in the\n",
    "# interesting range while not brutally collapsing all the low score values to\n",
    "# the same color.\n",
    "\n",
    "plt.figure(figsize=(8, 6))\n",
    "plt.subplots_adjust(left=.2, right=0.95, bottom=0.15, top=0.95)\n",
    "plt.imshow(scores_sigmoid_train, interpolation='nearest', cmap=plt.cm.hot,\n",
    "           norm=MidpointNormalize(vmin=0.2, midpoint=0.92))\n",
    "plt.xlabel('gamma')\n",
    "plt.ylabel('C')\n",
    "plt.colorbar()\n",
    "plt.xticks(np.arange(len(gamma_sigmoid)), gamma_sigmoid, rotation=45)\n",
    "plt.yticks(np.arange(len(C_sigmoid)), C_sigmoid)\n",
    "plt.title('Training accuracy - sigmoid kernel')\n",
    "plt.show()\n",
    "\n",
    "plt.figure(figsize=(8, 6))\n",
    "plt.subplots_adjust(left=.2, right=0.95, bottom=0.15, top=0.95)\n",
    "plt.imshow(scores_sigmoid, interpolation='nearest', cmap=plt.cm.hot,\n",
    "           norm=MidpointNormalize(vmin=0.2, midpoint=0.92))\n",
    "plt.xlabel('gamma')\n",
    "plt.ylabel('C')\n",
    "plt.colorbar()\n",
    "plt.xticks(np.arange(len(gamma_sigmoid)), gamma_sigmoid, rotation=45)\n",
    "plt.yticks(np.arange(len(C_sigmoid)), C_sigmoid)\n",
    "plt.title('Validation accuracy - sigmoid kernel')\n",
    "plt.show()"
   ]
  },
  {
   "cell_type": "raw",
   "metadata": {},
   "source": [
    "# SUMMARY OF PARAMS THAT GIVE HIGH ACCURACY (FOR COMPARISION LATER)\n",
    "\n",
    "# 0.939 (+/-0.029) for {'C': 1000000, 'gamma': 0.0001, 'kernel': 'sigmoid'}\n",
    "# 0.939 (+/-0.029) for {'C': 100000, 'gamma': 0.001, 'kernel': 'sigmoid'}\n",
    "# 0.939 (+/-0.029) for {'C': 10000, 'gamma': 0.01, 'kernel': 'sigmoid'} *******\n",
    "\n",
    "# 0.941 (+/-0.029) for {'C': 1000000, 'gamma': 0.001, 'kernel': 'sigmoid'} *******"
   ]
  },
  {
   "cell_type": "code",
   "execution_count": null,
   "metadata": {},
   "outputs": [
    {
     "name": "stdout",
     "output_type": "stream",
     "text": [
      "# Complete Param tuning - poly kernel\n",
      "# Tuning hyper-parameters for accuracy\n",
      "\n",
      "Fitting 5 folds for each of 81 candidates, totalling 405 fits\n"
     ]
    }
   ],
   "source": [
    "# Complete Param tuning - RBF kernel\n",
    "\n",
    "# Set the parameters by cross-validation\n",
    "C_range = [1, 10, 25, 50,100, 1000, 10000,100000,1000000]\n",
    "gamma_range = [100, 10, 1, 1e-1, 1e-2, 1e-3, 1e-4, 1e-5, 1e-6]\n",
    "tuned_parameters_rbf = [\n",
    "                    {'kernel': ['poly'], 'gamma': gamma_range, 'C': C_range}\n",
    "                   ]\n",
    "\n",
    "print(\"# Complete Param tuning - poly kernel\")\n",
    "for score in grid_eval_metric:\n",
    "    print(\"# Tuning hyper-parameters for %s\" % score)\n",
    "    print()\n",
    "\n",
    "    clf_tune_rbf = model_selection.GridSearchCV(svm.SVC(), tuned_parameters_rbf, cv=5,\n",
    "                       scoring='%s' % score, verbose=True)\n",
    "    clf_tune_rbf.fit(x_reduced,y)\n",
    "    print(\"Best parameters set found on development set:\")\n",
    "    print()\n",
    "    print(clf_tune_rbf.best_params_)\n",
    "    print()\n",
    "    print(\"Grid scores on development set:\")\n",
    "    print()\n",
    "    print(\"Training Score   | Testing Score\")\n",
    "    print()\n",
    "    means_rbf = clf_tune_rbf.cv_results_['mean_test_score']\n",
    "    stds_rbf = clf_tune_rbf.cv_results_['std_test_score']\n",
    "    means_rbf_train = clf_tune_rbf.cv_results_['mean_train_score']\n",
    "    stds_rbf_train = clf_tune_rbf.cv_results_['std_train_score']\n",
    "    for mean_t, std_t, mean, std, params in zip(means_rbf_train, stds_rbf_train, means_rbf, stds_rbf, clf_tune_rbf.cv_results_['params']):\n",
    "        print(\"%0.3f (+/-%0.03f) | %0.3f (+/-%0.03f) for %r\"\n",
    "              % (mean_t, std_t * 2, mean, std * 2, params))\n",
    "    print()\n",
    "\n"
   ]
  },
  {
   "cell_type": "markdown",
   "metadata": {
    "collapsed": true
   },
   "source": [
    "# Model Evaluations for based on GridSearchCV results"
   ]
  },
  {
   "cell_type": "markdown",
   "metadata": {},
   "source": [
    "WE CLOSELY EVALUATE ALL THE MODELS FOR WHICH WE GOT HIGH ACCURACY - BY CHECKING THE PARAM TRADEOFF"
   ]
  },
  {
   "cell_type": "markdown",
   "metadata": {},
   "source": [
    "SVM Evaluation For Linear Kernel"
   ]
  },
  {
   "cell_type": "markdown",
   "metadata": {
    "collapsed": true
   },
   "source": [
    "0.952 (+/-0.007) | 0.950 (+/-0.028) for {'C': 250, 'kernel': 'linear'}\n",
    "0.952 (+/-0.004) | 0.950 (+/-0.028) for {'C': 100, 'kernel': 'linear'}\n",
    "0.952 (+/-0.004) | 0.950 (+/-0.028) for {'C': 1000, 'kernel': 'linear'}\n",
    "0.953 (+/-0.004) | 0.950 (+/-0.029) for {'C': 10000, 'kernel': 'linear'}\n",
    "0.953 (+/-0.004) | 0.950 (+/-0.030) for {'C': 100000, 'kernel': 'linear'}\n",
    "0.955 (+/-0.005) | 0.950 (+/-0.028) for {'C': 1000000, 'kernel': 'linear'}\n"
   ]
  },
  {
   "cell_type": "code",
   "execution_count": 187,
   "metadata": {},
   "outputs": [
    {
     "name": "stdout",
     "output_type": "stream",
     "text": [
      "# C-Accuracy Plot - Linear kernel - Scaled\n"
     ]
    },
    {
     "data": {
      "image/png": "[encoded data removed]",
      "text/plain": [
       "<matplotlib.figure.Figure at 0x10fb2db70>"
      ]
     },
     "metadata": {},
     "output_type": "display_data"
    }
   ],
   "source": [
    "clf1 = svm.SVC(kernel='linear', C=100)\n",
    "clf2 = svm.SVC(kernel='linear', C=250)\n",
    "clf3 = svm.SVC(kernel='linear', C=1000)\n",
    "clf4 = svm.SVC(kernel='linear', C=10000)\n",
    "clf5 = svm.SVC(kernel='linear', C=100000)\n",
    "clf6 = svm.SVC(kernel='linear', C=1000000)\n",
    "\n",
    "Acc_linear = [ cross_val_score(clf1, x_reduced, y, cv=5).mean(),\n",
    "                 cross_val_score(clf2, x_reduced, y, cv=5).mean(),\n",
    "                 cross_val_score(clf3, x_reduced, y, cv=5).mean(),\n",
    "                 cross_val_score(clf4, x_reduced, y, cv=5).mean(),\n",
    "                 cross_val_score(clf5, x_reduced, y, cv=5).mean(),\n",
    "                 cross_val_score(clf6, x_reduced, y, cv=5).mean()\n",
    "               ]\n",
    "\n",
    "#Visualize\n",
    "print(\"# C-Accuracy Plot - Linear kernel - Scaled\")\n",
    "C_linear = ['100','250','1000','10000','100000','1000000']\n",
    "plt.xticks(range(len(Acc_linear)), C_linear)\n",
    "plt.plot(Acc_linear)\n",
    "plt.xlabel('C')\n",
    "plt.ylabel('Accuracy')\n",
    "plt.grid()\n",
    "plt.show()"
   ]
  },
  {
   "cell_type": "markdown",
   "metadata": {},
   "source": [
    "SVM Evaluation For RBF Kernel"
   ]
  },
  {
   "cell_type": "code",
   "execution_count": 188,
   "metadata": {},
   "outputs": [
    {
     "name": "stdout",
     "output_type": "stream",
     "text": [
      "# C-Accuracy Plot - rbf kernel\n"
     ]
    },
    {
     "data": {
      "image/png": "[encoded data removed]",
      "text/plain": [
       "<matplotlib.figure.Figure at 0x10fd29e80>"
      ]
     },
     "metadata": {},
     "output_type": "display_data"
    }
   ],
   "source": [
    "clf1 = svm.SVC(kernel='rbf', C=25, gamma=100)\n",
    "clf2 = svm.SVC(kernel='rbf', C=10, gamma=100)\n",
    "clf3 = svm.SVC(kernel='rbf', C=50, gamma=100)\n",
    "clf4 = svm.SVC(kernel='rbf', C=100, gamma=100)\n",
    "Acc_linear = [ cross_val_score(clf1, x_reduced, y, cv=5).mean(),\n",
    "                 cross_val_score(clf2, x_reduced, y, cv=5).mean(),\n",
    "                 cross_val_score(clf3, x_reduced, y, cv=5).mean(),\n",
    "                 cross_val_score(clf4, x_reduced, y, cv=5).mean()\n",
    "               ]\n",
    "\n",
    "#Visualize\n",
    "print(\"# C-Accuracy Plot - rbf kernel\")\n",
    "C_linear = ['10','25','50','100']\n",
    "plt.xticks(range(len(Acc_linear)), C_linear)\n",
    "plt.plot(Acc_linear)\n",
    "plt.xlabel('C')\n",
    "plt.ylabel('Accuracy')\n",
    "plt.grid()\n",
    "plt.show()\n"
   ]
  },
  {
   "cell_type": "markdown",
   "metadata": {},
   "source": [
    "SVM Evaluation For sigmoid Kernel"
   ]
  },
  {
   "cell_type": "code",
   "execution_count": 189,
   "metadata": {},
   "outputs": [
    {
     "name": "stdout",
     "output_type": "stream",
     "text": [
      "# C-Accuracy Plot - rbf kernel\n"
     ]
    },
    {
     "data": {
      "image/png": "[encoded data removed]",
      "text/plain": [
       "<matplotlib.figure.Figure at 0x1a1bd38278>"
      ]
     },
     "metadata": {},
     "output_type": "display_data"
    }
   ],
   "source": [
    "clf1 = svm.SVC(kernel='sigmoid', C=100000, gamma=0.001)\n",
    "clf2 = svm.SVC(kernel='sigmoid', C=1000000, gamma=0.001)\n",
    "clf3 = svm.SVC(kernel='sigmoid', C=1000000, gamma=0.0001)\n",
    "Acc_linear = [ cross_val_score(clf1, x_reduced, y, cv=5).mean(),\n",
    "                 cross_val_score(clf2, x_reduced, y, cv=5).mean(),\n",
    "                 cross_val_score(clf3, x_reduced, y, cv=5).mean(),\n",
    "               ]\n",
    "\n",
    "#Visualize\n",
    "print(\"# C-Accuracy Plot - rbf kernel\")\n",
    "C_linear = ['clf1','clf2','clf3']\n",
    "plt.xticks(range(len(Acc_linear)), C_linear)\n",
    "plt.plot(Acc_linear)\n",
    "plt.xlabel('C & gamma')\n",
    "plt.ylabel('Accuracy')\n",
    "plt.grid()\n",
    "plt.show()\n"
   ]
  },
  {
   "cell_type": "markdown",
   "metadata": {},
   "source": [
    "# Determining the best model"
   ]
  },
  {
   "cell_type": "code",
   "execution_count": 223,
   "metadata": {
    "scrolled": false
   },
   "outputs": [
    {
     "name": "stdout",
     "output_type": "stream",
     "text": [
      "0.943117178612\n",
      "0.9795221843\n",
      "0.941979522184\n",
      "\n",
      "# C-Accuracy Plot\n"
     ]
    },
    {
     "data": {
      "image/png": "[encoded data removed]",
      "text/plain": [
       "<matplotlib.figure.Figure at 0x10fafeeb8>"
      ]
     },
     "metadata": {},
     "output_type": "display_data"
    },
    {
     "name": "stdout",
     "output_type": "stream",
     "text": [
      "# Complete Param tuning - All kernel\n",
      "# Tuning hyper-parameters for precision_macro\n",
      "\n",
      "Fitting 3 folds for each of 3 candidates, totalling 9 fits\n"
     ]
    },
    {
     "name": "stderr",
     "output_type": "stream",
     "text": [
      "[Parallel(n_jobs=1)]: Done   9 out of   9 | elapsed:    0.2s finished\n",
      "[Parallel(n_jobs=1)]: Done   9 out of   9 | elapsed:    0.2s finished\n"
     ]
    },
    {
     "name": "stdout",
     "output_type": "stream",
     "text": [
      "Best parameters set found on development set:\n",
      "\n",
      "{'C': 25, 'gamma': 100, 'kernel': 'rbf'}\n",
      "\n",
      "Grid scores on development set:\n",
      "\n",
      "Training Score   | Testing Score\n",
      "\n",
      "0.960 (+/-0.002) | 0.940 (+/-0.009) for {'C': 250, 'kernel': 'linear'}\n",
      "0.996 (+/-0.006) | 0.955 (+/-0.019) for {'C': 25, 'gamma': 100, 'kernel': 'rbf'}\n",
      "0.953 (+/-0.006) | 0.937 (+/-0.013) for {'C': 100000, 'gamma': 0.001, 'kernel': 'sigmoid'}\n",
      "\n",
      "# Tuning hyper-parameters for recall_macro\n",
      "\n",
      "Fitting 3 folds for each of 3 candidates, totalling 9 fits\n",
      "Best parameters set found on development set:\n",
      "\n",
      "{'C': 25, 'gamma': 100, 'kernel': 'rbf'}\n",
      "\n",
      "Grid scores on development set:\n",
      "\n",
      "Training Score   | Testing Score\n",
      "\n",
      "0.967 (+/-0.002) | 0.949 (+/-0.009) for {'C': 250, 'kernel': 'linear'}\n",
      "0.997 (+/-0.006) | 0.956 (+/-0.015) for {'C': 25, 'gamma': 100, 'kernel': 'rbf'}\n",
      "0.962 (+/-0.005) | 0.948 (+/-0.014) for {'C': 100000, 'gamma': 0.001, 'kernel': 'sigmoid'}\n",
      "\n",
      "# Tuning hyper-parameters for accuracy\n",
      "\n",
      "Fitting 3 folds for each of 3 candidates, totalling 9 fits\n",
      "Best parameters set found on development set:\n",
      "\n",
      "{'C': 25, 'gamma': 100, 'kernel': 'rbf'}\n",
      "\n",
      "Grid scores on development set:\n",
      "\n",
      "Training Score   | Testing Score\n",
      "\n",
      "0.960 (+/-0.002) | 0.939 (+/-0.011) for {'C': 250, 'kernel': 'linear'}\n",
      "0.996 (+/-0.006) | 0.950 (+/-0.019) for {'C': 25, 'gamma': 100, 'kernel': 'rbf'}\n",
      "0.954 (+/-0.006) | 0.937 (+/-0.016) for {'C': 100000, 'gamma': 0.001, 'kernel': 'sigmoid'}\n",
      "\n"
     ]
    },
    {
     "name": "stderr",
     "output_type": "stream",
     "text": [
      "[Parallel(n_jobs=1)]: Done   9 out of   9 | elapsed:    0.2s finished\n"
     ]
    }
   ],
   "source": [
    "# Complete Param tuning - ALL kernel\n",
    "grid_eval_metric_final = ['precision_macro', 'recall_macro','accuracy']\n",
    "\n",
    "# Set the parameters by cross-validation (using Good candidates for final evaluation)\n",
    "tuned_parameters_rbf = [\n",
    "                    {'C': [250], 'kernel': ['linear']},\n",
    "                    {'C': [25], 'gamma': [100], 'kernel': ['rbf']},\n",
    "                    {'C': [100000], 'gamma': [0.001], 'kernel': ['sigmoid']}\n",
    "                   ]\n",
    "\n",
    "clf1 = svm.SVC(kernel='linear', C=250)\n",
    "clf2 = svm.SVC(kernel='rbf', C=25, gamma=100)\n",
    "clf3 = svm.SVC(kernel='sigmoid', C=100000, gamma=0.001)\n",
    "\n",
    "clf1.fit(x_reduced, y)\n",
    "clf2.fit(x_reduced, y)\n",
    "clf3.fit(x_reduced, y)\n",
    "\n",
    "acc1 = clf1.score(x_test_reduced,y_test)\n",
    "acc2 = clf2.score(x_test_reduced,y_test)\n",
    "acc3 = clf3.score(x_test_reduced,y_test)\n",
    "\n",
    "print(acc1)\n",
    "print(acc2)\n",
    "print(acc3)\n",
    "print()\n",
    "\n",
    "#Visualize\n",
    "print(\"# C-Accuracy Plot\")\n",
    "C_linear = ['clf1','clf2','clf3']\n",
    "Acc_linear = [acc1,acc2,acc3]\n",
    "plt.xticks(range(len(Acc_linear)), C_linear)\n",
    "plt.plot(Acc_linear)\n",
    "plt.xlabel('C')\n",
    "plt.ylabel('Accuracy')\n",
    "plt.grid()\n",
    "plt.show()\n",
    "\n",
    "\n",
    "print(\"# Complete Param tuning - All kernel\")\n",
    "for score in grid_eval_metric_final:\n",
    "    print(\"# Tuning hyper-parameters for %s\" % score)\n",
    "    print()\n",
    "\n",
    "    clf_tune_final = model_selection.GridSearchCV(svm.SVC(), tuned_parameters_rbf,\n",
    "                       scoring='%s' % score, verbose=True)\n",
    "    clf_tune_final.fit(x_test_reduced,y_test)\n",
    "    print(\"Best parameters set found on development set:\")\n",
    "    print()\n",
    "    print(clf_tune_final.best_params_)\n",
    "    print()\n",
    "    print(\"Grid scores on development set:\")\n",
    "    print()\n",
    "    print(\"Training Score   | Testing Score\")\n",
    "    print()\n",
    "    means_final = clf_tune_final.cv_results_['mean_test_score']\n",
    "    stds_final = clf_tune_final.cv_results_['std_test_score']\n",
    "    means_train_final = clf_tune_final.cv_results_['mean_train_score']\n",
    "    stds_train_final = clf_tune_final.cv_results_['std_train_score']\n",
    "    for mean_t, std_t, mean, std, params in zip(means_train_final, stds_train_final, means_final, stds_final, clf_tune_final.cv_results_['params']):\n",
    "        print(\"%0.3f (+/-%0.03f) | %0.3f (+/-%0.03f) for %r\"\n",
    "              % (mean_t, std_t * 2, mean, std * 2, params))\n",
    "    print()"
   ]
  },
  {
   "cell_type": "code",
   "execution_count": 237,
   "metadata": {},
   "outputs": [
    {
     "data": {
      "image/png": "[encoded data removed]",
      "text/plain": [
       "<matplotlib.figure.Figure at 0x1125b0978>"
      ]
     },
     "metadata": {},
     "output_type": "display_data"
    },
    {
     "name": "stdout",
     "output_type": "stream",
     "text": [
      "Accuracy :  0.9795221843\n"
     ]
    }
   ],
   "source": [
    "# roc plot for optimised rbf kernel \n",
    "plot_roc_multiclass(x_reduced, x_test_reduced, y, y_test,clf2)\n",
    "clf2.fit(x_reduced,y)\n",
    "acc = clf2.score(x_test_reduced,y_test)\n",
    "y_pred = clf2.predict(x_test_reduced)\n",
    "print(\"Accuracy : \", acc)"
   ]
  },
  {
   "cell_type": "code",
   "execution_count": 238,
   "metadata": {},
   "outputs": [
    {
     "data": {
      "text/plain": [
       "array([[191,   0,   0],\n",
       "       [  0, 317,   2],\n",
       "       [  3,  13, 353]])"
      ]
     },
     "execution_count": 238,
     "metadata": {},
     "output_type": "execute_result"
    }
   ],
   "source": [
    "confusion_matrix(y_test, y_pred)"
   ]
  },
  {
   "cell_type": "markdown",
   "metadata": {},
   "source": [
    "THE BEST SVM PARAMS FOR THE DATASET : {'C': [25], 'gamma': [100], 'kernel': ['rbf']}"
   ]
  },
  {
   "cell_type": "code",
   "execution_count": 235,
   "metadata": {},
   "outputs": [
    {
     "data": {
      "image/png": "[encoded data removed]",
      "text/plain": [
       "<matplotlib.figure.Figure at 0x10fe93e80>"
      ]
     },
     "metadata": {},
     "output_type": "display_data"
    },
    {
     "name": "stdout",
     "output_type": "stream",
     "text": [
      "Accuracy :  0.943117178612\n"
     ]
    }
   ],
   "source": [
    "# roc plot for optimised linear kernel \n",
    "plot_roc_multiclass(x_reduced, x_test_reduced, y, y_test,clf1)\n",
    "clf1.fit(x_reduced,y)\n",
    "y_pred = clf1.predict(x_test_reduced)\n",
    "acc = clf1.score(x_test_reduced,y_test)\n",
    "print(\"Accuracy : \", acc)"
   ]
  },
  {
   "cell_type": "code",
   "execution_count": 236,
   "metadata": {},
   "outputs": [
    {
     "data": {
      "text/plain": [
       "array([[191,   0,   0],\n",
       "       [  0, 311,   8],\n",
       "       [  7,  35, 327]])"
      ]
     },
     "execution_count": 236,
     "metadata": {},
     "output_type": "execute_result"
    }
   ],
   "source": [
    "confusion_matrix(y_test, y_pred)"
   ]
  },
  {
   "cell_type": "code",
   "execution_count": 240,
   "metadata": {},
   "outputs": [
    {
     "data": {
      "image/png": "[encoded data removed]",
      "text/plain": [
       "<matplotlib.figure.Figure at 0x11280ee80>"
      ]
     },
     "metadata": {},
     "output_type": "display_data"
    },
    {
     "name": "stdout",
     "output_type": "stream",
     "text": [
      "Accuracy :  0.941979522184\n"
     ]
    }
   ],
   "source": [
    "# roc plot for optimised sigmoid kernel \n",
    "plot_roc_multiclass(x_reduced, x_test_reduced, y, y_test,clf3)\n",
    "clf3.fit(x_reduced,y)\n",
    "acc = clf3.score(x_test_reduced,y_test)\n",
    "print(\"Accuracy : \", acc)"
   ]
  },
  {
   "cell_type": "code",
   "execution_count": 241,
   "metadata": {},
   "outputs": [
    {
     "data": {
      "text/plain": [
       "array([[191,   0,   0],\n",
       "       [  0, 317,   2],\n",
       "       [  3,  13, 353]])"
      ]
     },
     "execution_count": 241,
     "metadata": {},
     "output_type": "execute_result"
    }
   ],
   "source": [
    "confusion_matrix(y_test, y_pred)"
   ]
  },
  {
   "cell_type": "code",
   "execution_count": null,
   "metadata": {
    "collapsed": true
   },
   "outputs": [],
   "source": []
  }
 ],
 "metadata": {
  "kernelspec": {
   "display_name": "Python 3",
   "language": "python",
   "name": "python3"
  }
 },
 "nbformat": 4,
 "nbformat_minor": 2
}
